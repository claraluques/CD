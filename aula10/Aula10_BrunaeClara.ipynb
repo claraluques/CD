{
 "cells": [
  {
   "cell_type": "markdown",
   "metadata": {},
   "source": [
    "___\n",
    "# Atividade: Modelos probabilísticos discretos e Dados\n",
    "___\n",
    "\n",
    "## Aula 10\n",
    "\n",
    "**Referência de Leitura:**\n",
    "1. Magalhães e Lima (7ª. Edição): Seções 3.2 e 3.3\n",
    "\n",
    "**Hoje:**\n",
    "1.\tDescrever modelos discretos quanto aos resultados teóricos.\n",
    "2.\tExplicar a utilização de modelos probabilísticos no contexto da literatura estatística.\n",
    "3.\tContrastar resultados teóricos e empíricos.\n",
    "4.\tFechamento do conteúdo.\n",
    "\n",
    "**Próxima aula:**\n",
    "1. Leitura prévia necessária: Magalhães e Lima (7ª. Edição): Seção 5.1 (pág. 137) e Seção 5.2 (pág. 146).\n",
    "___"
   ]
  },
  {
   "cell_type": "code",
   "execution_count": 123,
   "metadata": {
    "collapsed": true
   },
   "outputs": [],
   "source": [
    "%matplotlib inline\n",
    "import pandas as pd\n",
    "import matplotlib.pyplot as plt\n",
    "import matplotlib.patches as mpatches\n",
    "\n",
    "from scipy import stats #importa apenas as funções de estatísticas da biblioteca SciPy.\n",
    "import itertools #importante para gerar todos os resultados possíveis!!"
   ]
  },
  {
   "cell_type": "markdown",
   "metadata": {},
   "source": [
    "___\n",
    "## <font color='blue'>Exercício 3</font> \n",
    "### <font color='red'>**Check para dia 13/09 em DUPLA **</font>\n",
    "\n",
    "Esse exercício irá explorar uma modelagem de dados reais.\n",
    "\n",
    "> **Confira alguns itens obrigatórios verificados durante a vistoria do Detran**\n",
    "\n",
    "> *Todos os veículos, novos ou velhos, precisam passar por uma vistoria todos os anos. (...) O motorista precisa estar atento a alguns itens obrigatórios. Tudo deve funcionar perfeitamente, apresentar bom estado de conservação e estar dentro do prazo de validade.*\n",
    "\n",
    "> <sup>Fonte: http://extra.globo.com/noticias/brasil/transito-seguro/confira-alguns-itens-obrigatorios-verificados-durante-vistoria-do-detran-10190355.html</sup>\n",
    "\n",
    "Essa matéria lista 14 itens que são inspecionados pelo Detran, dentre os quais têm-se: extintor de incêndio deve estar dentro do prazo de validade; pneus devem estar em bom estado de conservação; buzina deve funcionar perfeitamente; e cintos de segurança para todos os ocupantes do carro. Se, no final das contas, todos os 14 itens estiverem funcionando perfeitamente, o motorista irá feliz para casa assegurado de que seu carro está sem problemas com a vistoria.\n",
    "\n",
    "1. A base de dados `Carros.txt` apresenta, para cada um dos três mil carros de passeio vistoriados, duas informações: tipo de carro (1: Popular e 2: Não Popular) e quantidade de itens vistoriados em não conformidade (que pode variar de 0 a 14). \n",
    "    1. Considerando todos os carros, analise a quantidade de itens vistoriados em não conformidade. Pela tabela de frequências relativas, calcule a média e variância dessa quantidade. Interprete-os.\n",
    "    2. Assuma que a variável *Quantidade de itens em não conformidade* possa ser ajustada pelo modelo Binomial com parâmetros $n=14$ e $p=0,10$. Interprete esses parâmetros para o problema em questão e, ainda, discuta se as propriedades da distribuição Binomial estão satisfeitas para o problema aqui me questão.\n",
    "    \n",
    "    **Independente da sua resposta anterior, considere que a distribuição binomial seja adequada para modelar a variável de interesse nos próximos itens!**\n",
    "    3. Utilizando o método `stats.binom.pmf`, obtenha a probabilidade de cada uma das quantidades de itens em não conformidade quando $n=14$ e $p=0,10$. Calcule o valor esperado e a variância da quantidade de itens em não conformidade utilizando o método `stats.binom.stats` e via resultado da Tabela 4.4 do Magalhães e Lima (pág. 125).\n",
    "    4. Compare as probabilidades teóricas com as frequências relativas observadas nos dados. Para isso, tem-se, por exemplo, as duas opções abaixo para comparar se os resultados empíricos se encaixam com o modelo teórico proposto. \n",
    "        - A primeira opção gráfica contrasta a frequência relativa e a probabilidade teórica para uma determinada quantidade de itens em não conformidade! Vide Figura 3.4 do livro Magalhães e Lima (pág. 87). Ou seja, essa opção contrasta a frequência relativa em um valor de $y$ e a probabilidade pontual $P(Y=y)$.\n",
    "        - A segunda contrasta a frequência relativa acumulada com a probabilidade acumulada até determinada quantidade de itens em não conformidade. Ou seja, compara a frequência relativa acumulada até $y$ com a probabilidade acumulada $P(Y\\leq y)$.\n",
    "    Construa os gráficos de acordo com as duas opções e refine sua conclusão quanto ao uso do modelo teórico para ajustar a variável em questão!\n",
    "    5. Na prática, qual a necessidade de um modelo probabilístico já que se têm os dados observados?\n",
    "    6. Considerando apenas os carros populares, o modelo Binomial com parâmetros $n=14$ e $p=0,10$ é adequado para ajustar a variável Quantidade de itens em não conformidade? Se sim, justifique; caso não, sugira novos valores para os parâmetros da distribuição ajuste aos dados."
   ]
  },
  {
   "cell_type": "code",
   "execution_count": 137,
   "metadata": {
    "collapsed": false
   },
   "outputs": [
    {
     "name": "stdout",
     "output_type": "stream",
     "text": [
      "Esperamos trabalhar no diretório\n",
      "C:\\Users\\MLUQUES\\Documents\\Insper\\Semestre 2\\Ciência dos Dados\\CD\\aula10\n"
     ]
    }
   ],
   "source": [
    "import os\n",
    "print('Esperamos trabalhar no diretório')\n",
    "print(os.getcwd())\n",
    "carros = pd.read_table('Carros.txt', sep=' ')"
   ]
  },
  {
   "cell_type": "markdown",
   "metadata": {},
   "source": [
    "## A"
   ]
  },
  {
   "cell_type": "code",
   "execution_count": 138,
   "metadata": {
    "collapsed": false
   },
   "outputs": [],
   "source": [
    "contagem = carros.Quantidade.value_counts()\n",
    "prob = carros.Quantidade.value_counts(True)\n",
    "\n",
    "dic = {0:864, 1:950, 2:664, 3:325, 4:139, 5:47, 6:8, 7:2, 8:1}"
   ]
  },
  {
   "cell_type": "code",
   "execution_count": 139,
   "metadata": {
    "collapsed": false
   },
   "outputs": [
    {
     "name": "stdout",
     "output_type": "stream",
     "text": [
      "A média/esperança é:  1.3713333333333333\n"
     ]
    }
   ],
   "source": [
    "soma = 0\n",
    "for i in range(len(dic)):\n",
    "    resul = i*dic[i]\n",
    "    soma += resul\n",
    "    \n",
    "qntcarros = carros.shape[0]\n",
    "media = soma/qntcarros\n",
    "\n",
    "print ('A média/esperança é: ', media)"
   ]
  },
  {
   "cell_type": "code",
   "execution_count": 140,
   "metadata": {
    "collapsed": false
   },
   "outputs": [
    {
     "name": "stdout",
     "output_type": "stream",
     "text": [
      "A variança é:  1.57944488889\n"
     ]
    }
   ],
   "source": [
    "var = 0\n",
    "\n",
    "for i in range (9):\n",
    "    resul = (i-media)**2 * prob[i]\n",
    "    var += resul\n",
    "\n",
    "print ('A variança é: ', var)"
   ]
  },
  {
   "cell_type": "markdown",
   "metadata": {},
   "source": [
    "## B"
   ]
  },
  {
   "cell_type": "markdown",
   "metadata": {},
   "source": [
    "##### O 'n=14', ou seja o parâmetro 'n' está representando a quantidade de itens que tem na vistoria de carros. Já o parâmetro 'p', diz respeito a probabilidade de um desses itens não estarem em conformidade com vistoria."
   ]
  },
  {
   "cell_type": "markdown",
   "metadata": {},
   "source": [
    "## C"
   ]
  },
  {
   "cell_type": "code",
   "execution_count": 141,
   "metadata": {
    "collapsed": false
   },
   "outputs": [
    {
     "name": "stdout",
     "output_type": "stream",
     "text": [
      "A probabilidade de  0 é:  0.22876792455\n",
      "A probabilidade de  1 é:  0.355861215966\n",
      "A probabilidade de  2 é:  0.257010878198\n",
      "A probabilidade de  3 é:  0.114227056977\n",
      "A probabilidade de  4 é:  0.034902711854\n",
      "A probabilidade de  5 é:  0.00775615818978\n",
      "A probabilidade de  6 é:  0.00129269303163\n",
      "A probabilidade de  7 é:  0.00016415149608\n",
      "A probabilidade de  8 é:  1.595917323e-05\n",
      "A probabilidade de  9 é:  1.18216098e-06\n",
      "A probabilidade de  10 é:  6.567561e-08\n",
      "A probabilidade de  11 é:  2.65356e-09\n",
      "A probabilidade de  12 é:  7.371e-11\n",
      "A probabilidade de  13 é:  1.26e-12\n",
      "A probabilidade de  14 é:  1e-14\n"
     ]
    }
   ],
   "source": [
    "n = 14\n",
    "p = 0.10\n",
    "y = carros.Quantidade\n",
    "bino_lista = []\n",
    "\n",
    "for i in range (0,15):\n",
    "    bino = stats.binom.pmf(i, n ,p)\n",
    "    bino_lista.append(bino)\n",
    "    print ('A probabilidade de ',i, 'é: ', bino)"
   ]
  },
  {
   "cell_type": "code",
   "execution_count": 142,
   "metadata": {
    "collapsed": false
   },
   "outputs": [
    {
     "name": "stdout",
     "output_type": "stream",
     "text": [
      "O valor esperado de  0 é:  0.22876792455\n",
      "O valor esperado de  1 é:  0.584629140516\n",
      "O valor esperado de  2 é:  0.841640018713\n",
      "O valor esperado de  3 é:  0.95586707569\n",
      "O valor esperado de  4 é:  0.990769787544\n",
      "O valor esperado de  5 é:  0.998525945734\n",
      "O valor esperado de  6 é:  0.999818638766\n",
      "O valor esperado de  7 é:  0.999982790262\n",
      "O valor esperado de  8 é:  0.999998749435\n",
      "O valor esperado de  9 é:  0.999999931596\n",
      "O valor esperado de  10 é:  0.999999997271\n",
      "O valor esperado de  11 é:  0.999999999925\n",
      "O valor esperado de  12 é:  0.999999999999\n",
      "O valor esperado de  13 é:  1.0\n",
      "O valor esperado de  14 é:  1.0\n"
     ]
    }
   ],
   "source": [
    "bino2 = []\n",
    "\n",
    "for i in range (15):\n",
    "    bino = stats.binom.cdf(i, n ,p)\n",
    "    bino2.append(bino)\n",
    "    print ('O valor esperado de ',i, 'é: ', bino)"
   ]
  },
  {
   "cell_type": "code",
   "execution_count": 143,
   "metadata": {
    "collapsed": false
   },
   "outputs": [
    {
     "name": "stdout",
     "output_type": "stream",
     "text": [
      "A média é: 1.4000000000000001\n",
      "A variância é: 1.2600000000000002\n"
     ]
    }
   ],
   "source": [
    "bino3 = []\n",
    "bino = stats.binom.stats(n ,p, moments='mv')\n",
    "bino3.append(bino)\n",
    "mediabino = bino[0]\n",
    "varbino = bino[1]\n",
    "print ('A média é:', mediabino)\n",
    "print('A variância é:', varbino)"
   ]
  },
  {
   "cell_type": "markdown",
   "metadata": {},
   "source": [
    "## D"
   ]
  },
  {
   "cell_type": "code",
   "execution_count": 144,
   "metadata": {
    "collapsed": false
   },
   "outputs": [
    {
     "data": {
      "image/png": "[encoded data removed]",
      "text/plain": [
       "<matplotlib.figure.Figure at 0x1a7eaea1e48>"
      ]
     },
     "metadata": {},
     "output_type": "display_data"
    }
   ],
   "source": [
    "lista_num = range(0,15)\n",
    "lista_prob = []\n",
    "for i in range(15):\n",
    "    if i in range (0,9):\n",
    "        lista_prob.append(prob[i])\n",
    "    else:\n",
    "        lista_prob.append(0)\n",
    "    \n",
    "\n",
    "plt.plot(lista_num, lista_prob, 'ro')\n",
    "plt.plot(lista_num, bino_lista, 'bo')\n",
    "\n",
    "red_patch = mpatches.Patch(color='red', label='Frequência relativa acumulada')\n",
    "blue_patch = mpatches.Patch(color='blue', label='Probabilidade acumulada')\n",
    "plt.legend(handles=[red_patch, blue_patch])\n",
    "\n",
    "plt.ylabel('Densidade')\n",
    "plt.xlabel('Qnt. de items em mal funcionamento')\n",
    "\n",
    "plt.show()"
   ]
  },
  {
   "cell_type": "markdown",
   "metadata": {},
   "source": [
    "## E"
   ]
  },
  {
   "cell_type": "markdown",
   "metadata": {},
   "source": [
    "##### Com o modelo probabilístico pode-se, além de analisar resultados, entender como se comporta o sistema, possibilitando a previsão de um comportamento futuro."
   ]
  },
  {
   "cell_type": "markdown",
   "metadata": {},
   "source": [
    "## F"
   ]
  },
  {
   "cell_type": "code",
   "execution_count": 168,
   "metadata": {
    "collapsed": false
   },
   "outputs": [],
   "source": [
    "pop = carros[(carros.Tipo==1)&(carros.Quantidade>=0)]"
   ]
  },
  {
   "cell_type": "code",
   "execution_count": 181,
   "metadata": {
    "collapsed": false
   },
   "outputs": [],
   "source": [
    "contagem = pop.Quantidade.value_counts()\n",
    "prob2 = pop.Quantidade.value_counts(True)"
   ]
  },
  {
   "cell_type": "code",
   "execution_count": 182,
   "metadata": {
    "collapsed": false
   },
   "outputs": [],
   "source": [
    "lista_prob2=[]\n",
    "\n",
    "for i in range (0,15):\n",
    "    if i in range (0,9):\n",
    "        lista_prob2.append(prob2[i])\n",
    "    else:\n",
    "        lista_prob2.append(0)"
   ]
  },
  {
   "cell_type": "code",
   "execution_count": 183,
   "metadata": {
    "collapsed": false
   },
   "outputs": [
    {
     "name": "stdout",
     "output_type": "stream",
     "text": [
      "A probabilidade de  0 é:  0.22876792455\n",
      "A probabilidade de  1 é:  0.355861215966\n",
      "A probabilidade de  2 é:  0.257010878198\n",
      "A probabilidade de  3 é:  0.114227056977\n",
      "A probabilidade de  4 é:  0.034902711854\n",
      "A probabilidade de  5 é:  0.00775615818978\n",
      "A probabilidade de  6 é:  0.00129269303163\n",
      "A probabilidade de  7 é:  0.00016415149608\n",
      "A probabilidade de  8 é:  1.595917323e-05\n",
      "A probabilidade de  9 é:  1.18216098e-06\n",
      "A probabilidade de  10 é:  6.567561e-08\n",
      "A probabilidade de  11 é:  2.65356e-09\n",
      "A probabilidade de  12 é:  7.371e-11\n",
      "A probabilidade de  13 é:  1.26e-12\n",
      "A probabilidade de  14 é:  1e-14\n"
     ]
    }
   ],
   "source": [
    "n = 14\n",
    "p = 0.10\n",
    "y = pop.Quantidade\n",
    "bino2_lista = []\n",
    "\n",
    "for i in range (0,15):\n",
    "    bino = stats.binom.pmf(i, n ,p)\n",
    "    bino2_lista.append(bino)\n",
    "    print ('A probabilidade de ',i, 'é: ', bino)"
   ]
  },
  {
   "cell_type": "code",
   "execution_count": 185,
   "metadata": {
    "collapsed": false
   },
   "outputs": [
    {
     "data": {
      "image/png": "[encoded data removed]",
      "text/plain": [
       "<matplotlib.figure.Figure at 0x1a7eb30af60>"
      ]
     },
     "metadata": {},
     "output_type": "display_data"
    }
   ],
   "source": [
    "lista_num = range(0,15)\n",
    "lista_prob = []\n",
    "for i in range(15):\n",
    "    if i in range (0,9):\n",
    "        lista_prob.append(prob[i])\n",
    "    else:\n",
    "        lista_prob.append(0)\n",
    "    \n",
    "\n",
    "plt.plot(lista_num, lista_prob2, 'ro')\n",
    "plt.plot(lista_num, bino2_lista, 'bo')\n",
    "\n",
    "red_patch = mpatches.Patch(color='red', label='Frequência relativa acumulada')\n",
    "blue_patch = mpatches.Patch(color='blue', label='Probabilidade acumulada')\n",
    "plt.legend(handles=[red_patch, blue_patch])\n",
    "\n",
    "plt.ylabel('Densidade')\n",
    "plt.xlabel('Qnt. de items em mal funcionamento')\n",
    "\n",
    "plt.show()"
   ]
  },
  {
   "cell_type": "markdown",
   "metadata": {},
   "source": [
    "#### Podemos ajustar a variável nos mesmo parâmetros pois os resultados apenas dos carros populares foram similares aos resultados gerais (formato do gráfico, probs)."
   ]
  },
  {
   "cell_type": "code",
   "execution_count": null,
   "metadata": {
    "collapsed": true
   },
   "outputs": [],
   "source": []
  }
 ],
 "metadata": {
  "anaconda-cloud": {},
  "kernelspec": {
   "display_name": "Python [Root]",
   "language": "python",
   "name": "Python [Root]"
  },
  "language_info": {
   "codemirror_mode": {
    "name": "ipython",
    "version": 3
   },
   "file_extension": ".py",
   "mimetype": "text/x-python",
   "name": "python",
   "nbconvert_exporter": "python",
   "pygments_lexer": "ipython3",
   "version": "3.5.2"
  }
 },
 "nbformat": 4,
 "nbformat_minor": 0
}
