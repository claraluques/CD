{
 "cells": [
  {
   "cell_type": "markdown",
   "metadata": {},
   "source": [
    "##### Calculo da Media das versões "
   ]
  },
  {
   "cell_type": "code",
   "execution_count": null,
   "metadata": {
    "collapsed": true
   },
   "outputs": [],
   "source": [
    "media= 0\n",
    "for i in data_final[data_final.versao == 'B'].delta_t:\n",
    "    if  i <= 500.000:\n",
    "        media += i\n",
    "media /= len(data_final) -1"
   ]
  },
  {
   "cell_type": "code",
   "execution_count": null,
   "metadata": {
    "collapsed": true
   },
   "outputs": [],
   "source": [
    "print(\"Media do tempo para a Versão A é de {0}\".format(data_final[data_final.versao == 'A'].delta_t.mean()))\n",
    "print(\"Media do tempo para a Versão B é de {0}\".format(media) )"
   ]
  },
  {
   "cell_type": "markdown",
   "metadata": {},
   "source": [
    "### Conclusão"
   ]
  },
  {
   "cell_type": "markdown",
   "metadata": {},
   "source": [
    "#### A partir das médias calculadas experimentalmente do tempo de acesso na versão A e na versão B, é possivel analisar que as médias foram diferentes das calculadas teoricamente. Alguns dos possiveis fatores é a possivel localização da categoria a ser acessada pelo usúario, pois ela é a primeira categoria dentre uma série de outras. Além disso, o fato da versão B não ter informações a ser lidas, agiliza o acesso do usuário.\n",
    "#### Concluimos, portanto, que a não utilização do recurso da escrita, possibilitou diminuir o tempo de acesso, em média, por mais da metade."
   ]
  },
  {
   "cell_type": "code",
   "execution_count": null,
   "metadata": {
    "collapsed": true
   },
   "outputs": [],
   "source": []
  }
 ],
 "metadata": {
  "anaconda-cloud": {},
  "kernelspec": {
   "display_name": "Python [Root]",
   "language": "python",
   "name": "Python [Root]"
  },
  "language_info": {
   "codemirror_mode": {
    "name": "ipython",
    "version": 3
   },
   "file_extension": ".py",
   "mimetype": "text/x-python",
   "name": "python",
   "nbconvert_exporter": "python",
   "pygments_lexer": "ipython3",
   "version": "3.5.2"
  }
 },
 "nbformat": 4,
 "nbformat_minor": 0
}
