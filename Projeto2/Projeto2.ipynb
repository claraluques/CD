{
 "cells": [
  {
   "cell_type": "markdown",
   "metadata": {},
   "source": [
    "# Projeto 2 - Ciência dos Dados\n",
    "## Maria Clara L. Luques, Victor H. L. da Silva e Warlen César R. Filho"
   ]
  },
  {
   "cell_type": "markdown",
   "metadata": {},
   "source": [
    "### Versões \"A\" e \"B\" do website\n",
    "\n",
    "### Link: https://projeto-2-cvw.firebaseapp.com/\n",
    "\n",
    "#### Observa-se que a técnica de inferência utilizada consiste em encontrar a categoria eletronica, sendo que as categorias na versão \"A\" contém legendas e na versão \"B\", não. Comparando os resultados do tempo utilizado em média pelos usuários de cada versão, discutiremos qual delas é melhor, pois uma contém imagem e texto, enquanto outra contém apenas imagem, medindo o quão intuitivas são as imagens disponibilizadas para cada categoria.\n",
    "\n",
    "<img src=\"versaoa.png\"/, width=420, height=350 align='left'>\n",
    "<img src=\"versaob.jpg\"/, width=420, height=350 align='right'>\n",
    "\n"
   ]
  },
  {
   "cell_type": "markdown",
   "metadata": {},
   "source": [
    "### Parte Teórica\n",
    "\n",
    "#### Será feito o teste com valores aleatótios de tempo para as versões A e B."
   ]
  },
  {
   "cell_type": "code",
   "execution_count": 48,
   "metadata": {
    "collapsed": false
   },
   "outputs": [
    {
     "data": {
      "text/plain": [
       "'C:\\\\Users\\\\MLUQUES\\\\Documents\\\\Insper\\\\Semestre 2\\\\Ciência dos Dados\\\\CD\\\\Projeto2'"
      ]
     },
     "execution_count": 48,
     "metadata": {},
     "output_type": "execute_result"
    }
   ],
   "source": [
    "%matplotlib inline\n",
    "\n",
    "import os\n",
    "import matplotlib.pyplot as plt\n",
    "import pandas as pd\n",
    "import numpy as np\n",
    "import json\n",
    "import itertools\n",
    "from scipy import stats\n",
    "import random\n",
    "os.getcwd()"
   ]
  },
  {
   "cell_type": "code",
   "execution_count": 64,
   "metadata": {
    "collapsed": false
   },
   "outputs": [
    {
     "name": "stdout",
     "output_type": "stream",
     "text": [
      "O valor esperado de A (mi) é: 2.9802333333333326\n",
      "O valor esperado de B (mi) é: 3.3309666666666664\n",
      "O desvio padrão de A (sigma) é: 1.0998186271579866\n",
      "O desvio padrão de B (sigma) é: 1.2993238953615343\n"
     ]
    }
   ],
   "source": [
    "tempo_A = []\n",
    "tempo_B = []\n",
    "\n",
    "for i in range (30):\n",
    "        tempo_A.append(random.randrange(1000,5000,1)/1000)\n",
    "        tempo_B.append(random.randrange(1000,5000,1)/1000)\n",
    "        \n",
    "simula = pd.DataFrame()\n",
    "simula[\"A\"] = tempo_A\n",
    "simula[\"B\"] = tempo_B\n",
    "\n",
    "mia = simula.A.mean()\n",
    "mib = simula.B.mean()\n",
    "\n",
    "sa = (simula.A.var())**(1/2)\n",
    "sb = (simula.B.var())**(1/2)\n",
    "\n",
    "print(\"O valor esperado de A (mi) é: {0}\".format(mia))\n",
    "print(\"O valor esperado de B (mi) é: {0}\".format(mib))\n",
    "print(\"O desvio padrão de A (sigma) é: {0}\".format(sa))\n",
    "print(\"O desvio padrão de B (sigma) é: {0}\".format(sb))"
   ]
  },
  {
   "cell_type": "markdown",
   "metadata": {},
   "source": [
    "#### { H0: E(A) = E(B) (Hipótese Nula)\n",
    "\n",
    "#### { H1: E(A) != E(B) (Hipótese Alternativa)\n",
    "\n",
    "#### Nível de significância (alfa): 1%\n",
    "\n",
    "#### **considerando variâncias diferentes e não conhecidas"
   ]
  },
  {
   "cell_type": "code",
   "execution_count": 72,
   "metadata": {
    "collapsed": false
   },
   "outputs": [
    {
     "name": "stdout",
     "output_type": "stream",
     "text": [
      "O t obs é: -1.1284964548280574\n"
     ]
    }
   ],
   "source": [
    "X = mia - mib\n",
    "vara = sa**2\n",
    "varb = sb**2\n",
    "\n",
    "n = 30 #amostras aleatórias de tamanhos iguais\n",
    "\n",
    "T = (X - 0)/((((vara)/n) + ((varb)/n))**(1/2))\n",
    "print(\"O t obs é: {0}\".format(T)) "
   ]
  },
  {
   "cell_type": "code",
   "execution_count": 73,
   "metadata": {
    "collapsed": false
   },
   "outputs": [
    {
     "name": "stdout",
     "output_type": "stream",
     "text": [
      "O grau de liberdade é: 56.45968550018167\n"
     ]
    }
   ],
   "source": [
    "M = ((((sa)**2)/n) + (((sb)**2)/n))**2\n",
    "N = ((((sa)**2)/n)**2)/(n - 1)\n",
    "O = ((((sb)**2)/n)**2)/(n - 1)\n",
    "liber = M/(N + O)\n",
    "print(\"O grau de liberdade é: {0}\".format(liber))"
   ]
  },
  {
   "cell_type": "markdown",
   "metadata": {},
   "source": [
    "#### Sabendo que, para alfa = 1%, t = 2,896, temos um resultado de não rejeitar a hipótese nula, pois o valor observado de t está fora da região crítica."
   ]
  },
  {
   "cell_type": "markdown",
   "metadata": {},
   "source": [
    "### Parte Prática (Experimental)\n",
    "\n",
    "#### Serão feitos os mesmo cálculos usando os dados recolhidos do firebase"
   ]
  },
  {
   "cell_type": "code",
   "execution_count": 54,
   "metadata": {
    "collapsed": false
   },
   "outputs": [],
   "source": [
    "jason = open(\"projeto-2-cvw-export.json\")\n",
    "linhas = jason.readlines()\n",
    "texto = \"\".join(linhas)\n",
    "dados = json.loads(texto)\n",
    "dics = []\n",
    "for i,j in dados[\"logs\"].items():\n",
    "    dics.append(j)\n",
    "data = pd.DataFrame.from_records(dics)\n",
    "group = data.groupby(by=[\"user_id\", \"versao\"])\n",
    "userid = set(data.user_id) \n",
    "userid = list(userid)"
   ]
  },
  {
   "cell_type": "code",
   "execution_count": 43,
   "metadata": {
    "collapsed": false
   },
   "outputs": [],
   "source": [
    "resultados = []\n",
    "\n",
    "for u in userid:\n",
    "    for versao in [\"A\", \"B\"]:\n",
    "        if (u, versao) in group.groups.keys(): # Check if a specific pair user/type of test happened\n",
    "            grupo1 =  group.get_group((u, versao))\n",
    "            grupo1 = grupo1.sort_values(by=\"tempo\") # Para evitar que inícios sem fim gerem tempos negativos\n",
    "\n",
    "            if len(grupo1[grupo1.tipo==\"final\"])>= 1 and len(grupo1[grupo1.tipo==\"inicial\"]) >= 1:\n",
    "                delta_t = grupo1[grupo1.tipo==\"final\"].iloc[-1].tempo - grupo1[grupo1.tipo==\"inicial\"].iloc[0].tempo\n",
    "                resultados.append({\"user_id\":u, \"delta_t\":delta_t, \"versao\":versao})"
   ]
  },
  {
   "cell_type": "code",
   "execution_count": 44,
   "metadata": {
    "collapsed": false
   },
   "outputs": [
    {
     "ename": "AttributeError",
     "evalue": "'DataFrame' object has no attribute 'delta_t'",
     "output_type": "error",
     "traceback": [
      "\u001b[1;31m---------------------------------------------------------------------------\u001b[0m",
      "\u001b[1;31mAttributeError\u001b[0m                            Traceback (most recent call last)",
      "\u001b[1;32m<ipython-input-44-5ed34004d1ab>\u001b[0m in \u001b[0;36m<module>\u001b[1;34m()\u001b[0m\n\u001b[0;32m      1\u001b[0m \u001b[0mgrupo1\u001b[0m\u001b[1;33m.\u001b[0m\u001b[0msort_values\u001b[0m\u001b[1;33m(\u001b[0m\u001b[0mby\u001b[0m\u001b[1;33m=\u001b[0m\u001b[1;34m\"tempo\"\u001b[0m\u001b[1;33m)\u001b[0m\u001b[1;33m\u001b[0m\u001b[0m\n\u001b[0;32m      2\u001b[0m \u001b[0mdata_final\u001b[0m \u001b[1;33m=\u001b[0m \u001b[0mpd\u001b[0m\u001b[1;33m.\u001b[0m\u001b[0mDataFrame\u001b[0m\u001b[1;33m.\u001b[0m\u001b[0mfrom_records\u001b[0m\u001b[1;33m(\u001b[0m\u001b[0mresultados\u001b[0m\u001b[1;33m)\u001b[0m\u001b[1;33m\u001b[0m\u001b[0m\n\u001b[1;32m----> 3\u001b[1;33m \u001b[1;33m(\u001b[0m\u001b[0mdata_final\u001b[0m\u001b[1;33m.\u001b[0m\u001b[0mdelta_t\u001b[0m\u001b[1;33m)\u001b[0m\u001b[1;33m/=\u001b[0m\u001b[1;36m1000\u001b[0m\u001b[1;33m\u001b[0m\u001b[0m\n\u001b[0m",
      "\u001b[1;32mC:\\Users\\MLUQUES\\Anaconda3\\lib\\site-packages\\pandas\\core\\generic.py\u001b[0m in \u001b[0;36m__getattr__\u001b[1;34m(self, name)\u001b[0m\n\u001b[0;32m   2670\u001b[0m             \u001b[1;32mif\u001b[0m \u001b[0mname\u001b[0m \u001b[1;32min\u001b[0m \u001b[0mself\u001b[0m\u001b[1;33m.\u001b[0m\u001b[0m_info_axis\u001b[0m\u001b[1;33m:\u001b[0m\u001b[1;33m\u001b[0m\u001b[0m\n\u001b[0;32m   2671\u001b[0m                 \u001b[1;32mreturn\u001b[0m \u001b[0mself\u001b[0m\u001b[1;33m[\u001b[0m\u001b[0mname\u001b[0m\u001b[1;33m]\u001b[0m\u001b[1;33m\u001b[0m\u001b[0m\n\u001b[1;32m-> 2672\u001b[1;33m             \u001b[1;32mreturn\u001b[0m \u001b[0mobject\u001b[0m\u001b[1;33m.\u001b[0m\u001b[0m__getattribute__\u001b[0m\u001b[1;33m(\u001b[0m\u001b[0mself\u001b[0m\u001b[1;33m,\u001b[0m \u001b[0mname\u001b[0m\u001b[1;33m)\u001b[0m\u001b[1;33m\u001b[0m\u001b[0m\n\u001b[0m\u001b[0;32m   2673\u001b[0m \u001b[1;33m\u001b[0m\u001b[0m\n\u001b[0;32m   2674\u001b[0m     \u001b[1;32mdef\u001b[0m \u001b[0m__setattr__\u001b[0m\u001b[1;33m(\u001b[0m\u001b[0mself\u001b[0m\u001b[1;33m,\u001b[0m \u001b[0mname\u001b[0m\u001b[1;33m,\u001b[0m \u001b[0mvalue\u001b[0m\u001b[1;33m)\u001b[0m\u001b[1;33m:\u001b[0m\u001b[1;33m\u001b[0m\u001b[0m\n",
      "\u001b[1;31mAttributeError\u001b[0m: 'DataFrame' object has no attribute 'delta_t'"
     ]
    }
   ],
   "source": [
    "grupo1.sort_values(by=\"tempo\")\n",
    "data_final = pd.DataFrame.from_records(resultados)\n",
    "(data_final.delta_t)/=1000"
   ]
  },
  {
   "cell_type": "markdown",
   "metadata": {
    "collapsed": true
   },
   "source": [
    "### Conclusão"
   ]
  },
  {
   "cell_type": "markdown",
   "metadata": {},
   "source": [
    "#### *inserir conclusão*"
   ]
  },
  {
   "cell_type": "code",
   "execution_count": null,
   "metadata": {
    "collapsed": true
   },
   "outputs": [],
   "source": []
  }
 ],
 "metadata": {
  "anaconda-cloud": {},
  "kernelspec": {
   "display_name": "Python [Root]",
   "language": "python",
   "name": "Python [Root]"
  },
  "language_info": {
   "codemirror_mode": {
    "name": "ipython",
    "version": 3
   },
   "file_extension": ".py",
   "mimetype": "text/x-python",
   "name": "python",
   "nbconvert_exporter": "python",
   "pygments_lexer": "ipython3",
   "version": "3.5.2"
  }
 },
 "nbformat": 4,
 "nbformat_minor": 0
}
