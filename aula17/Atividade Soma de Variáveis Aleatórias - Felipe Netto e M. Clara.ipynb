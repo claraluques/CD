{
 "cells": [
  {
   "cell_type": "markdown",
   "metadata": {},
   "source": [
    "___\n",
    "# Atividade: Soma de variáveis aleatórias \n",
    "___\n",
    "\n",
    "## Aula 17\n",
    "\n",
    "**Preparo Prévio:**\n",
    "1. Seção 5.1 – págs 137 a 140: aborda como fazer uma distribuição de probabilidade conjunta entre duas variáveis aleatórias X e Y e define função de probabilidade conjunta.\n",
    "2. Seção 5.2 – págs 146 a 149; págs 156 e 157 (Exemplo 5.12) e págs 158 a 162 (Exemplo 5.13): aborda propriedades de esperança e variância em soma de variáveis aleatórias (X+Y). \n",
    "\n",
    "**Hoje:**\n",
    "1. Descrever as propriedades de distribuição conjunta entre duas variáveis aleatórias discretas.\n",
    "2. Compreender correlação entre variáveis aleatórias.\n",
    "3. Descrever as propriedades de esperança e variância para soma de variáveis aleatórias (discretas e contínuas).\n",
    "\n",
    "\n",
    "**Próxima aula:**\n",
    "1.\tLeitura prévia necessária: Magalhães e Lima (7ª. Edição): Seção 7.3 (págs 234 a 240).\n",
    "___"
   ]
  },
  {
   "cell_type": "code",
   "execution_count": 1,
   "metadata": {
    "collapsed": false
   },
   "outputs": [],
   "source": [
    "%matplotlib inline\n",
    "\n",
    "import os\n",
    "import matplotlib.pyplot as plt\n",
    "import pandas as pd\n",
    "import numpy as np\n",
    "from scipy import stats\n"
   ]
  },
  {
   "cell_type": "markdown",
   "metadata": {},
   "source": [
    "___\n",
    "## <font color='blue'>Exercício 1 - Exemplo 3 da Aula 17 </font>\n",
    "\n",
    "Num determinado momento em um certo país, a taxa de juros ($X$) pode variar 0,25 pontos percentuais (pp), para cima ou para baixo, ou manter-se constante. \n",
    "Já a taxa de câmbio ($Y$) pode variar para mais ou para menos em 1 pp, ou manter-se constante.\n",
    "A tabela seguinte reflete as distribuições marginais e conjunta dessas duas taxas representadas, aqui, por $X$ e $Y$. \n",
    "\n",
    "![Tabela](XeY.png)\n",
    "\n",
    "Um investidor aplica a mesma quantia num fundo que acompanha a variação da taxa de juros ($X$) e num fundo que acompanha a variação cambial ($Y$). Ao final do dia ele resgatará seu investimento.\n",
    "1. Encontre a $E(X)$, $Var(X)$, $E(Y)$, $Var(Y)$, $Cov(X,Y)$ e $Corr(X,Y)$.\n",
    "2. Construa a distribuição de probabilidades do ganho (em variação %) desse investidor, ou seja, encontre todos os valores de $G=0.5*X+0.5*Y$, sendo $G$ o ganho do investidor aplicando metade do dinheiro em $X$ e metade do dinheiro em $Y$. \n",
    "3. Calcule esperança e variância de $G$ utilizando a distribuição de probabilidade, ou seja, $E(G)$ e $Var(G)$.\n",
    "4. Calcule esperança e variância de $G$ utilizando propriedades de esperança e variância da soma de variáveis aleatórias.\n"
   ]
  },
  {
   "cell_type": "code",
   "execution_count": 2,
   "metadata": {
    "collapsed": false
   },
   "outputs": [
    {
     "name": "stdout",
     "output_type": "stream",
     "text": [
      "[[0.05, 0.07, 0.26], [0.075, 0.21, 0.12], [0.125, 0.07, 0.02]]\n"
     ]
    }
   ],
   "source": [
    "#Valores da tabela\n",
    "y=[-1,0,1] #colunas\n",
    "x=[-0.25,0,0.25] #linhas\n",
    "probXY=[[[] for i in range(3)] for i in range(3)]\n",
    "pxy=[0.05,0.07,0.26,0.075,0.21,0.12,0.125,0.07,0.02]\n",
    "k=0\n",
    "for i in range(3):\n",
    "    for j in range(3):\n",
    "        probXY[i][j]=pxy[k]\n",
    "        k+=1\n",
    "print(probXY)"
   ]
  },
  {
   "cell_type": "code",
   "execution_count": 3,
   "metadata": {
    "collapsed": false
   },
   "outputs": [
    {
     "name": "stdout",
     "output_type": "stream",
     "text": [
      "Probabilidade de X= -0.25  é igual a  0.38\n",
      "Probabilidade de X= 0  é igual a  0.40499999999999997\n",
      "Probabilidade de X= 0.25  é igual a  0.215\n",
      "Esperança de X= -0.04125\n",
      "Variância de X= 0.0354859375\n"
     ]
    }
   ],
   "source": [
    "#item 1 \n",
    "#Distribuição de X\n",
    "probX=[0,0,0]\n",
    "for i in range(3):\n",
    "    for j in range(3):\n",
    "        probX[i]+=probXY[i][j]\n",
    "for i in range(3):\n",
    "    print(\"Probabilidade de X=\",x[i],\" é igual a \", probX[i])\n",
    "\n",
    "espX=0\n",
    "varX=0\n",
    "for i in range(3):\n",
    "    espX+=x[i]*probX[i]\n",
    "for i in range(3):\n",
    "    varX+=(x[i]-espX)**2*probX[i]\n",
    "print(\"Esperança de X=\",espX)\n",
    "print(\"Variância de X=\",varX)\n"
   ]
  },
  {
   "cell_type": "code",
   "execution_count": 4,
   "metadata": {
    "collapsed": false
   },
   "outputs": [
    {
     "name": "stdout",
     "output_type": "stream",
     "text": [
      "Probabilidade de Y= -1  é igual a  0.25\n",
      "Probabilidade de Y= 0  é igual a  0.35000000000000003\n",
      "Probabilidade de Y= 1  é igual a  0.4\n",
      "Esperança de Y= 0.15000000000000002\n",
      "Variância de Y= 0.6275\n"
     ]
    }
   ],
   "source": [
    "#item 1 \n",
    "#Distribuição de Y\n",
    "probY=[0,0,0]\n",
    "for i in range(3):\n",
    "    for j in range(3):\n",
    "        probY[j]+=probXY[i][j]\n",
    "for i in range(3):\n",
    "    print(\"Probabilidade de Y=\",y[i],\" é igual a \", probY[i])\n",
    "\n",
    "espY=0\n",
    "varY=0\n",
    "for i in range(3):\n",
    "    espY+=y[i]*probY[i]\n",
    "for i in range(3):\n",
    "    varY+=(y[i]-espY)**2*probY[i]\n",
    "print(\"Esperança de Y=\",espY)\n",
    "print(\"Variância de Y=\",varY)\n"
   ]
  },
  {
   "cell_type": "code",
   "execution_count": 5,
   "metadata": {
    "collapsed": false
   },
   "outputs": [
    {
     "name": "stdout",
     "output_type": "stream",
     "text": [
      "Covariância entre X e Y= -0.07256249999999999\n",
      "Correlação entre X e Y= -0.4862697238590869\n"
     ]
    }
   ],
   "source": [
    "#item 1\n",
    "#Covariância e Correlação\n",
    "cov=0\n",
    "for i in range(3):\n",
    "    for j in range(3):\n",
    "        cov+=(x[i]-espX)*(y[j]-espY)*probXY[i][j]\n",
    "\n",
    "corr=cov/(varX*varY)**(0.5)\n",
    "print(\"Covariância entre X e Y=\", cov)\n",
    "print(\"Correlação entre X e Y=\", corr)\n"
   ]
  },
  {
   "cell_type": "code",
   "execution_count": 6,
   "metadata": {
    "collapsed": false
   },
   "outputs": [
    {
     "name": "stdout",
     "output_type": "stream",
     "text": [
      "Probabilidade de G= -0.625  é igual a  0.05\n",
      "Probabilidade de G= -0.125  é igual a  0.07\n",
      "Probabilidade de G= 0.375  é igual a  0.26\n",
      "Probabilidade de G= -0.5  é igual a  0.075\n",
      "Probabilidade de G= 0.0  é igual a  0.21\n",
      "Probabilidade de G= 0.5  é igual a  0.12\n",
      "Probabilidade de G= -0.375  é igual a  0.125\n",
      "Probabilidade de G= 0.125  é igual a  0.07\n",
      "Probabilidade de G= 0.625  é igual a  0.02\n"
     ]
    }
   ],
   "source": [
    "#item 2\n",
    "#Distribuição do G=0.5*X +0.5*Y\n",
    "g=[]\n",
    "probG=[]\n",
    "for i in range(3):\n",
    "    for j in range(3):\n",
    "        a = 0.5*x[i]+0.5*y[j]\n",
    "        if a in g:\n",
    "            probG[g.index(a)] += probX[i][j]\n",
    "        else:\n",
    "            g.append(a)         \n",
    "            probG.append(probXY[i][j])\n",
    "\n",
    "for i in range(len(g)):\n",
    "    print(\"Probabilidade de G=\",g[i],\" é igual a \", probG[i])\n"
   ]
  },
  {
   "cell_type": "code",
   "execution_count": 7,
   "metadata": {
    "collapsed": false
   },
   "outputs": [
    {
     "name": "stdout",
     "output_type": "stream",
     "text": [
      "Esperança e variância de G usando distribuição de probabilidade de G:\n",
      "Esperança de G= 0.05437500000000001\n",
      "Variância de G= 0.12946523437500002\n"
     ]
    }
   ],
   "source": [
    "#item 3\n",
    "#Esperança e variância de G\n",
    "espG=0\n",
    "varG=0\n",
    "for i in range(len(g)):\n",
    "    espG+=g[i]*probG[i]\n",
    "for i in range(len(g)):\n",
    "    varG+=(g[i]-espG)**2*probG[i]\n",
    "\n",
    "print(\"Esperança e variância de G usando distribuição de probabilidade de G:\")\n",
    "print(\"Esperança de G=\",espG)\n",
    "print(\"Variância de G=\",varG)"
   ]
  },
  {
   "cell_type": "code",
   "execution_count": 8,
   "metadata": {
    "collapsed": false
   },
   "outputs": [
    {
     "name": "stdout",
     "output_type": "stream",
     "text": [
      "Esperança e variância de G usando propriedades:\n",
      "Esperança de G= 0.05437500000000001\n",
      "Variância de G= 0.129465234375\n"
     ]
    }
   ],
   "source": [
    "#item 4\n",
    "#Esperança e variância de G usando propriedades de soma de variáveis aleatórias\n",
    "\n",
    "#G=0.5X + 0.5Y\n",
    "#G=0.5*(X+Y)\n",
    "\n",
    "espGp = 0.5*(espX+espY)\n",
    "varGp = 0.5**2*(varX+varY+2*cov)\n",
    "\n",
    "print(\"Esperança e variância de G usando propriedades:\")\n",
    "print(\"Esperança de G=\",espGp)\n",
    "print(\"Variância de G=\",varGp)\n"
   ]
  },
  {
   "cell_type": "markdown",
   "metadata": {
    "collapsed": true
   },
   "source": [
    "___\n",
    "## <font color='blue'>Exercício 2 - Soma de normais correlacionadas</font>\n",
    "\n",
    "Um pacote com mil peças de resistor de carbono 1/8w tem o preço distribuído como uma normal com média 21 reais e desvio padrão de 2 reais, ou seja, $X$~$N(21;4)$.\n",
    "\n",
    "Já jumpers/fios macho-fêmea com 40 unidades de 20 cm tem o preço distribuído como uma normal com média 18,90 reais e desvio padrão de 1,50 reais, ou seja, $Y$~$N(18,90;2,25)$.\n",
    "\n",
    "Assuma que a correlação entre esses dois preços seja de 0,85.\n",
    "\n",
    "1. Simule $n=100$, $n=1.000$ e $n=10.000$ de cada variáveis aleatória respeitando a correlação entre elas. Para tanto, consulte o comando `np.random.multivariate_normal(mean, cov, n)`. \n",
    "2. Se você vai passear na Santa Efigênia para comprar um pacote de cada um, calcule a esperança e a variância do gasto $G=X+Y$ com a compra de uma pacotinho de resistores e um jumper nas especificações acima descritos. \n",
    "3. Calcule esperança e variância de $G$ utilizando propriedades de esperança e variância da soma de variáveis aleatórias.\n",
    "4. Construa a distribuição do gasto e verifique se o gasto se assemelha a distribuição normal.\n",
    "5. Repita assumindo correlação igual a zero entre X e Y.\n"
   ]
  },
  {
   "cell_type": "code",
   "execution_count": 9,
   "metadata": {
    "collapsed": false
   },
   "outputs": [],
   "source": [
    "#Informações do enunciado\n",
    "muX = 21\n",
    "varX = 4\n",
    "muY = 18.90\n",
    "varY = 2.25\n",
    "corXY = 0.95\n",
    "covXY = corXY*(varX*varY)**(0.5)\n",
    "mean = [muX, muY]\n",
    "cov = [[varX, covXY], [covXY, varY]]  # diagonal covariance"
   ]
  },
  {
   "cell_type": "code",
   "execution_count": 10,
   "metadata": {
    "collapsed": false
   },
   "outputs": [
    {
     "name": "stdout",
     "output_type": "stream",
     "text": [
      "Matriz de covariâncias a partir dos n valores (100) correlacionados:\n",
      "[[ 4.43871451  3.26955792]\n",
      " [ 3.26955792  2.6415308 ]]\n",
      "Matriz de covariâncias a partir dos n valores (1000) correlacionados:\n",
      "[[ 3.8768904   2.80332505]\n",
      " [ 2.80332505  2.24373019]]\n",
      "Matriz de covariâncias a partir dos n valores (10000) correlacionados:\n",
      "[[ 3.96200899  2.81983143]\n",
      " [ 2.81983143  2.22912481]]\n"
     ]
    }
   ],
   "source": [
    "#item 1\n",
    "n=100\n",
    "x, y = np.random.multivariate_normal(mean, cov, n).T\n",
    "\n",
    "print(\"Matriz de covariâncias a partir dos n valores (100) correlacionados:\")\n",
    "print(np.cov(x,y))\n",
    "\n",
    "n2=1000\n",
    "x2, y2 = np.random.multivariate_normal(mean, cov, n2).T\n",
    "\n",
    "print(\"Matriz de covariâncias a partir dos n valores (1000) correlacionados:\")\n",
    "print(np.cov(x2,y2))\n",
    "\n",
    "n3=10000\n",
    "x3, y3 = np.random.multivariate_normal(mean, cov, n3).T\n",
    "\n",
    "print(\"Matriz de covariâncias a partir dos n valores (10000) correlacionados:\")\n",
    "print(np.cov(x3,y3))"
   ]
  },
  {
   "cell_type": "code",
   "execution_count": 11,
   "metadata": {
    "collapsed": false
   },
   "outputs": [
    {
     "name": "stdout",
     "output_type": "stream",
     "text": [
      "Esperança de G quando n = 100: 40.006603756884545\n",
      "Esperança de G quando n = 1000: 39.9765740864869\n",
      "Esperança de G quando n = 10000: 39.87543622434186\n",
      "Variancia de G quando n = 100: 13.483167534253726\n",
      "Variancia de G quando n = 1000: 11.71554341595432\n",
      "Variancia de G quando n = 10000: 11.82961358961758\n"
     ]
    }
   ],
   "source": [
    "#item 2\n",
    "'''esperança n = 100'''\n",
    "G = 0\n",
    "G_list=[]\n",
    "for i in range (0,n):\n",
    "    num = (x[i]+y[i])\n",
    "    G += num\n",
    "    G_list.append(num)\n",
    "    \n",
    "esp = G/n\n",
    "print ('Esperança de G quando n = {0}: {1}'.format(n, esp)) \n",
    "\n",
    "'''esperança n = 1000'''\n",
    "\n",
    "G2 = 0\n",
    "G2_list=[]\n",
    "for i in range (0,n2):\n",
    "    num = (x2[i]+y2[i])\n",
    "    G2 += num\n",
    "    G2_list.append(num)\n",
    "    \n",
    "esp2 = G2/n2\n",
    "print ('Esperança de G quando n = {0}: {1}'.format(n2, esp2))    \n",
    "\n",
    "'''esperança n = 10000'''\n",
    "\n",
    "G3=0\n",
    "G3_list = []\n",
    "for i in range (0,n3):\n",
    "    num = (x3[i]+y3[i])\n",
    "    G3 += num\n",
    "    G3_list.append(num)\n",
    "    \n",
    "esp3 = G3/n3\n",
    "print ('Esperança de G quando n = {0}: {1}'.format(n3, esp3)) \n",
    "\n",
    "\n",
    "'''Variancia n = 100'''\n",
    "\n",
    "var = 0\n",
    "for i in range (0,n):\n",
    "    var += (((G_list[i]-esp)**2)/n)\n",
    "print ('Variancia de G quando n = {0}: {1}'.format(n, var)) \n",
    "\n",
    "var2 = 0\n",
    "for i in range (0,n2):\n",
    "    var2 += (((G2_list[i]-esp2)**2)/n2)\n",
    "print ('Variancia de G quando n = {0}: {1}'.format(n2, var2)) \n",
    "\n",
    "var3= 0\n",
    "for i in range (0,n3):\n",
    "    var3 += (((G3_list[i]-esp3)**2)/n3)\n",
    "print ('Variancia de G quando n = {0}: {1}'.format(n3, var3)) "
   ]
  },
  {
   "cell_type": "code",
   "execution_count": 12,
   "metadata": {
    "collapsed": false
   },
   "outputs": [
    {
     "name": "stdout",
     "output_type": "stream",
     "text": [
      "O valor teórico da esperança de G é: 39.9\n",
      "O valor teórico da variância de G é: 11.95\n",
      "\n"
     ]
    }
   ],
   "source": [
    "#item 3\n",
    "\n",
    "Esp_G = muX + muY\n",
    "Var_G = varX + varY + (2*covXY)\n",
    "\n",
    "print ('''O valor teórico da esperança de G é: {0}\n",
    "O valor teórico da variância de G é: {1}\n",
    "'''.format(Esp_G, Var_G))"
   ]
  },
  {
   "cell_type": "code",
   "execution_count": 13,
   "metadata": {
    "collapsed": false,
    "scrolled": false
   },
   "outputs": [
    {
     "data": {
      "image/png": "[encoded data removed]",
      "text/plain": [
       "<matplotlib.figure.Figure at 0x1ff8ca6c4a8>"
      ]
     },
     "metadata": {},
     "output_type": "display_data"
    },
    {
     "data": {
      "image/png": "[encoded data removed]",
      "text/plain": [
       "<matplotlib.figure.Figure at 0x1ff8ce84c88>"
      ]
     },
     "metadata": {},
     "output_type": "display_data"
    },
    {
     "data": {
      "image/png": "[encoded data removed]",
      "text/plain": [
       "<matplotlib.figure.Figure at 0x1ff8ced01d0>"
      ]
     },
     "metadata": {},
     "output_type": "display_data"
    }
   ],
   "source": [
    "#item 4\n",
    "mu = esp\n",
    "sigma = (var**(1/2))\n",
    "plt.hist(G_list, normed=True, color='salmon')\n",
    "x=sorted(stats.norm.rvs(size=n, loc=mu, scale=sigma))\n",
    "plt.plot(x, stats.norm.pdf(x, loc=mu, scale=sigma), lw=3, alpha=0.6, color='black')\n",
    "plt.show()\n",
    "\n",
    "mu2 = esp2\n",
    "sigma2 = (var2**(1/2))\n",
    "plt.hist(G2_list, normed=True, color='gold')\n",
    "x2=sorted(stats.norm.rvs(size=n2, loc=mu2, scale=sigma2))\n",
    "plt.plot(x2, stats.norm.pdf(x2, loc=mu2, scale=sigma2), lw=3, alpha=0.6, color='black')\n",
    "plt.hist(G2_list, normed=True)\n",
    "plt.show()\n",
    "\n",
    "mu3 = esp3\n",
    "sigma3 = (var3**(1/2))\n",
    "plt.hist(G3_list, normed=True)\n",
    "x3=sorted(stats.norm.rvs(size=n3, loc=mu3, scale=sigma3))\n",
    "plt.plot(x3, stats.norm.pdf(x3, loc=mu3, scale=sigma3), lw=3, alpha=0.6, color='black')\n",
    "plt.hist(G3_list, normed=True, color='turquoise')\n",
    "plt.show()"
   ]
  },
  {
   "cell_type": "code",
   "execution_count": 14,
   "metadata": {
    "collapsed": false
   },
   "outputs": [
    {
     "name": "stdout",
     "output_type": "stream",
     "text": [
      "Matriz de covariâncias a partir dos n valores (100) correlacionados:\n",
      "[[ 4.25044946 -0.13904377]\n",
      " [-0.13904377  2.15122565]]\n",
      "Matriz de covariâncias a partir dos n valores (1000) correlacionados:\n",
      "[[ 4.09357688  0.05644828]\n",
      " [ 0.05644828  2.14165695]]\n",
      "Matriz de covariâncias a partir dos n valores (10000) correlacionados:\n",
      "[[ 4.07689053 -0.04066769]\n",
      " [-0.04066769  2.23598476]]\n"
     ]
    }
   ],
   "source": [
    "#item 5\n",
    "\n",
    "corXY2 = 0\n",
    "covXY2 = corXY2*(varX*varY)**(0.5)\n",
    "cov2 = [[varX, covXY2], [covXY2, varY]]\n",
    "\n",
    "x, y = np.random.multivariate_normal(mean, cov2, n).T\n",
    "print(\"Matriz de covariâncias a partir dos n valores (100) correlacionados:\")\n",
    "print(np.cov(x,y))\n",
    "\n",
    "x2, y2 = np.random.multivariate_normal(mean, cov2, n2).T\n",
    "print(\"Matriz de covariâncias a partir dos n valores (1000) correlacionados:\")\n",
    "print(np.cov(x2,y2))\n",
    "\n",
    "x3, y3 = np.random.multivariate_normal(mean, cov2, n3).T\n",
    "print(\"Matriz de covariâncias a partir dos n valores (10000) correlacionados:\")\n",
    "print(np.cov(x3,y3))"
   ]
  },
  {
   "cell_type": "code",
   "execution_count": 15,
   "metadata": {
    "collapsed": false
   },
   "outputs": [
    {
     "name": "stdout",
     "output_type": "stream",
     "text": [
      "Esperança de G quando n = 100: 40.06332252725303\n",
      "Esperança de G quando n = 1000: 39.85842875408539\n",
      "Esperança de G quando n = 10000: 39.931274766206656\n",
      "Variancia de G quando n = 100: 6.062351698657493\n",
      "Variancia de G quando n = 1000: 6.341782252010485\n",
      "Variancia de G quando n = 10000: 6.230916751697684\n"
     ]
    }
   ],
   "source": [
    "'''esperança n = 100'''\n",
    "G = 0\n",
    "G_list=[]\n",
    "for i in range (0,n):\n",
    "    num = (x[i]+y[i])\n",
    "    G += num\n",
    "    G_list.append(num)\n",
    "    \n",
    "esp0 = G/n\n",
    "print ('Esperança de G quando n = {0}: {1}'.format(n, esp0)) \n",
    "\n",
    "'''esperança n = 1000'''\n",
    "\n",
    "G2 = 0\n",
    "G2_list=[]\n",
    "for i in range (0,n2):\n",
    "    num = (x2[i]+y2[i])\n",
    "    G2 += num\n",
    "    G2_list.append(num)\n",
    "    \n",
    "esp20 = G2/n2\n",
    "print ('Esperança de G quando n = {0}: {1}'.format(n2, esp20))    \n",
    "\n",
    "'''esperança n = 10000'''\n",
    "\n",
    "G3=0\n",
    "G3_list = []\n",
    "for i in range (0,n3):\n",
    "    num = (x3[i]+y3[i])\n",
    "    G3 += num\n",
    "    G3_list.append(num)\n",
    "    \n",
    "esp30 = G3/n3\n",
    "print ('Esperança de G quando n = {0}: {1}'.format(n3, esp30)) \n",
    "\n",
    "\n",
    "'''Variancia n = 100'''\n",
    "\n",
    "var0 = 0\n",
    "for i in range (0,n):\n",
    "    var0 += (((G_list[i]-esp0)**2)/n)\n",
    "print ('Variancia de G quando n = {0}: {1}'.format(n, var0)) \n",
    "\n",
    "var20 = 0\n",
    "for i in range (0,n2):\n",
    "    var20 += (((G2_list[i]-esp20)**2)/n2)\n",
    "print ('Variancia de G quando n = {0}: {1}'.format(n2, var20)) \n",
    "\n",
    "var30= 0\n",
    "for i in range (0,n3):\n",
    "    var30 += (((G3_list[i]-esp30)**2)/n3)\n",
    "print ('Variancia de G quando n = {0}: {1}'.format(n3, var30)) "
   ]
  },
  {
   "cell_type": "code",
   "execution_count": 16,
   "metadata": {
    "collapsed": false
   },
   "outputs": [
    {
     "name": "stdout",
     "output_type": "stream",
     "text": [
      "O valor teórico da esperança de G é: 39.9\n",
      "O valor teórico da variância de G é: 6.25\n",
      "\n"
     ]
    }
   ],
   "source": [
    "Esp_G0 = muX + muY\n",
    "Var_G0 = varX + varY + (2*covXY2)\n",
    "\n",
    "print ('''O valor teórico da esperança de G é: {0}\n",
    "O valor teórico da variância de G é: {1}\n",
    "'''.format(Esp_G0, Var_G0))"
   ]
  },
  {
   "cell_type": "code",
   "execution_count": 17,
   "metadata": {
    "collapsed": false
   },
   "outputs": [
    {
     "data": {
      "image/png": "[encoded data removed]",
      "text/plain": [
       "<matplotlib.figure.Figure at 0x1ff8ca61978>"
      ]
     },
     "metadata": {},
     "output_type": "display_data"
    },
    {
     "data": {
      "image/png": "[encoded data removed]",
      "text/plain": [
       "<matplotlib.figure.Figure at 0x1ff8caedbe0>"
      ]
     },
     "metadata": {},
     "output_type": "display_data"
    },
    {
     "data": {
      "image/png": "[encoded data removed]",
      "text/plain": [
       "<matplotlib.figure.Figure at 0x1ff8e0c6908>"
      ]
     },
     "metadata": {},
     "output_type": "display_data"
    }
   ],
   "source": [
    "mu0= esp0\n",
    "sigma0 = (var0**(1/2))\n",
    "plt.hist(G_list, normed=True, color='salmon')\n",
    "x=sorted(stats.norm.rvs(size=n, loc=mu0, scale=sigma0))\n",
    "plt.plot(x, stats.norm.pdf(x, loc=mu0, scale=sigma0), lw=3, alpha=0.6, color='black')\n",
    "plt.show()\n",
    "\n",
    "mu20 = esp20\n",
    "sigma20 = (var20**(1/2))\n",
    "plt.hist(G2_list, normed=True, color='gold')\n",
    "x2=sorted(stats.norm.rvs(size=n2, loc=mu20, scale=sigma20))\n",
    "plt.plot(x2, stats.norm.pdf(x2, loc=mu20, scale=sigma20), lw=3, alpha=0.6, color='black')\n",
    "plt.hist(G2_list, normed=True)\n",
    "plt.show()\n",
    "\n",
    "mu30 = esp30\n",
    "sigma30 = (var30**(1/2))\n",
    "plt.hist(G3_list, normed=True)\n",
    "x3=sorted(stats.norm.rvs(size=n3, loc=mu30, scale=sigma30))\n",
    "plt.plot(x3, stats.norm.pdf(x3, loc=mu30, scale=sigma30), lw=3, alpha=0.6, color='black')\n",
    "plt.hist(G3_list, normed=True, color='turquoise')\n",
    "plt.show()"
   ]
  }
 ],
 "metadata": {
  "anaconda-cloud": {},
  "kernelspec": {
   "display_name": "Python [Root]",
   "language": "python",
   "name": "Python [Root]"
  },
  "language_info": {
   "codemirror_mode": {
    "name": "ipython",
    "version": 3
   },
   "file_extension": ".py",
   "mimetype": "text/x-python",
   "name": "python",
   "nbconvert_exporter": "python",
   "pygments_lexer": "ipython3",
   "version": "3.5.2"
  }
 },
 "nbformat": 4,
 "nbformat_minor": 0
}
