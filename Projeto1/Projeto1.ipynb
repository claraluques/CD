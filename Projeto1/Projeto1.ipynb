{
 "cells": [
  {
   "cell_type": "markdown",
   "metadata": {},
   "source": [
    "# Projeto 1"
   ]
  },
  {
   "cell_type": "markdown",
   "metadata": {},
   "source": [
    "## <font color = 'red'>Maria Clara Lorenzetti Luques</font>\n",
    "\n",
    "#### Obs.: Para separar os dados desejados de aposentados e jovens apenas, as PNADs 2014 e 2011 foram filtradas em outro arquivo, assim não sobrecarregando este. O arquivo \"P1\", no qual se encontra o código de filtração e criação de novos arquivos csv, se encontra na pasta do projeto no GitHub (usuário = claraluques). Obrigada.\n",
    "\n",
    "### Este trabalho está dividido em:\n",
    "#### 1-Introdução\n",
    "#### 2-Análise e Resultados 2014\n",
    "#### 3-Análise e Resultados 2011\n",
    "#### 4-Conclusão Final"
   ]
  },
  {
   "cell_type": "markdown",
   "metadata": {},
   "source": [
    "# Analisando e comparando a situação de jovens e aposentados"
   ]
  },
  {
   "cell_type": "markdown",
   "metadata": {},
   "source": [
    "## 1-Introdução\n",
    "### Aumento da expectativa de vida e independência dos jovens. Estes são dois fatores que, juntos à curiosidade, deram início à esta pesquisa. Afinal, quem participa mais da sociedade nos dias de hoje: o jovem ou o aposentado?\n",
    "### Não é de hoje que os mais velho continuam trabalhando e sendo ativos na sociedade mesmo depois de pedir aposentadoria, mas será que a boa vontade deste grupo ultrapassa a dos jovens-adultos, tendo um papel maior na sociedade? \n",
    "### Veremos, após uma intensa análise de dados fornecidos por PNADs de 2014 e 2011, qual grupo participa mais e qual se desenvolveu mais nos últimos 3 anos."
   ]
  },
  {
   "cell_type": "markdown",
   "metadata": {},
   "source": [
    "## 2-Análise e Resultados 2014"
   ]
  },
  {
   "cell_type": "code",
   "execution_count": null,
   "metadata": {
    "collapsed": true
   },
   "outputs": [],
   "source": [
    "%matplotlib inline\n",
    "import pandas as pd\n",
    "import matplotlib.pyplot as plt\n",
    "import os\n",
    "from numpy import arange\n",
    "\n",
    "def percConvert(tab):\n",
    "  return (tab/float(tab[-1])*100).round(decimals=0)"
   ]
  },
  {
   "cell_type": "code",
   "execution_count": null,
   "metadata": {
    "collapsed": false
   },
   "outputs": [],
   "source": [
    "print('Esperamos trabalhar no diretório')\n",
    "print(os.getcwd())"
   ]
  },
  {
   "cell_type": "code",
   "execution_count": null,
   "metadata": {
    "collapsed": false
   },
   "outputs": [],
   "source": [
    "a14 = pd.read_csv('Aposentados2014.csv', sep=',')\n",
    "\n",
    "agen = a14.V0302 #quali\n",
    "aecativ = a14.V4704 #quali\n",
    "atrab = a14.V9001 #quali\n",
    "anivens = a14[~a14.V4802.isnull()]\n",
    "anivens = anivens.V4802\n",
    "\n",
    "aidade = a14.V8005 #quanti\n",
    "arenda = a14.V4718 #quanti\n",
    "ahoras = a14.V9058 #quanti\n",
    "\n",
    "an = a14.shape[0]"
   ]
  },
  {
   "cell_type": "code",
   "execution_count": null,
   "metadata": {
    "collapsed": false
   },
   "outputs": [],
   "source": [
    "j14 = pd.read_csv('Jovens2014.csv', sep=',')\n",
    "\n",
    "jgen = j14.V0302 #quali\n",
    "jecativ = j14.V4704 #quali\n",
    "jtrab = j14.V9001 #quali\n",
    "jnivens = j14[~j14.V4802.isnull()]\n",
    "jnivens = jnivens.V4802\n",
    "\n",
    "jidade = j14.V8005 #quanti\n",
    "jrenda = j14.V4718 #quanti\n",
    "jhoras = j14.V9058 #quanti\n",
    "\n",
    "jn = j14.shape[0]"
   ]
  },
  {
   "cell_type": "code",
   "execution_count": null,
   "metadata": {
    "collapsed": false
   },
   "outputs": [],
   "source": [
    "agen = agen.astype('category')\n",
    "aecativ = aecativ.astype('category')\n",
    "atrab = atrab.astype('category')\n",
    "anivens = anivens.astype('category')\n",
    "\n",
    "jgen = jgen.astype('category')\n",
    "jecativ = jecativ.astype('category')\n",
    "jtrab = jtrab.astype('category')\n",
    "jnivens = jnivens.astype('category')"
   ]
  },
  {
   "cell_type": "code",
   "execution_count": null,
   "metadata": {
    "collapsed": false
   },
   "outputs": [],
   "source": [
    "agen.cat.categories=('Masc.', 'Fem.')\n",
    "jgen.cat.categories=('Masc.', 'Fem.')\n",
    "aecativ.cat.categories=('Economicamente ativo','Não economicamente ativo')\n",
    "jecativ.cat.categories=('Economicamente ativo','Não economicamente ativo')\n",
    "atrab.cat.categories=('Trabalhou na semana','Não trabalhou na semana')\n",
    "jtrab.cat.categories=('Trabalhou na semana','Não trabalhou na semana')\n",
    "anivens.cat.categories=('Alfabetização de adultos','1ª a 4ª séries (EF em 8 anos)','5ª a 8ª série (EF em 8 anos)',\n",
    "                        '1ª série (EF em 9 anos)','2ª a 5ª série (EF em 9 anos)','6ª a 9ª série (EF em 9 anos)',\n",
    "                               'Educação de jovens e adultos (não seriado do EF)', 'Ensino Médio (pré-vestibular incluso)',\n",
    "                               'Ensino Superior (mestrado e doutorado)')\n",
    "jnivens.cat.categories=('Alfabetização de adultos','1ª a 4ª séries (EF em 8 anos)','5ª a 8ª série (EF em 8 anos)',\n",
    "                        '1ª série (EF em 9 anos)', '2ª a 5ª série (EF em 9 anos)','6ª a 9ª série (EF em 9 anos)',\n",
    "                               'Educação de jovens e adultos (não seriado do EF)', 'Ensino Médio (pré-vestibular incluso)',\n",
    "                               'Ensino Superior (mestrado e doutorado)')"
   ]
  },
  {
   "cell_type": "code",
   "execution_count": null,
   "metadata": {
    "collapsed": false
   },
   "outputs": [],
   "source": [
    "fr_agen = (agen.value_counts()/an*100).round(decimals=1)\n",
    "fr_jgen = (jgen.value_counts()/jn*100).round(decimals=1)\n",
    "\n",
    "fr_aecativ = (aecativ.value_counts()/an*100).round(decimals=1)\n",
    "fr_jecativ = (jecativ.value_counts()/jn*100).round(decimals=1)\n",
    "\n",
    "fr_atrab = (atrab.value_counts()/an*100).round(decimals=1)\n",
    "fr_jtrab = (jtrab.value_counts()/jn*100).round(decimals=1)\n",
    "\n",
    "fr_anivens = (anivens.value_counts()/an*100).round(decimals=1)\n",
    "fr_jnivens = (jnivens.value_counts()/jn*100).round(decimals=1)\n",
    "\n",
    "fr_ahoras = (ahoras.value_counts()/an*100).round(decimals=1)\n",
    "fr_jhoras = (jhoras.value_counts()/jn*100).round(decimals=1)"
   ]
  },
  {
   "cell_type": "markdown",
   "metadata": {},
   "source": [
    "### Para começar, faremos uma avaliação básica de gênero e idade, tanto para aposentados quanto para jovens, para termos uma ideia de como se comportam os grupos analisados.\n",
    "#### Obs.: jovens foram considerados entre 16 e 23 anos"
   ]
  },
  {
   "cell_type": "code",
   "execution_count": null,
   "metadata": {
    "collapsed": false,
    "scrolled": false
   },
   "outputs": [],
   "source": [
    "'''Analisando a parcela de aposentados da PNAD'''\n",
    "\n",
    "print('''Número total de aposentados:\n",
    "''', a14.shape[0])\n",
    "print('''\n",
    "''')\n",
    "colors = ['Lightcoral','lightblue']\n",
    "explode=(0.1,0.1)\n",
    "fr_agen.plot(kind='pie', colors=colors, figsize=(8,8), autopct='%1.1f%%',shadow=True, explode=explode)\n",
    "print('Frequêcia relativa do gênero dos aposentados:')\n",
    "print('''\n",
    "      Masc.: {0} %\n",
    "      Fem.: {1} %\n",
    "      '''.format(fr_agen[0], fr_agen[1]))\n",
    "plt.title('Aposentados vs. Gênero')\n",
    "plt.ylabel('.')\n",
    "plt.show()\n",
    "\n",
    "oi = aidade.describe()\n",
    "print('Idade dos aposentados (describe):')\n",
    "print('''\n",
    "''', oi,'''\n",
    "''')\n",
    "\n",
    "f_aid = arange(11,113,10)\n",
    "aidade_var = pd.cut(aidade, f_aid)\n",
    "\n",
    "aidade.plot(kind='box',figsize=(8,6))\n",
    "plt.title('Boxplot: Aposentados vs. idade')\n",
    "plt.ylabel('Idade')\n",
    "plt.show()\n",
    "\n",
    "aidade.value_counts()\n",
    "aidade.plot.hist(bins=f_aid, color='lightgreen', figsize=(10,6))\n",
    "plt.title('Histograma de aposentados por faixa de idade (10 anos)')\n",
    "plt.ylabel('Número de pessoas')\n",
    "plt.xlabel('Idade')\n",
    "plt.show()\n"
   ]
  },
  {
   "cell_type": "code",
   "execution_count": null,
   "metadata": {
    "collapsed": false,
    "scrolled": false
   },
   "outputs": [],
   "source": [
    "'''Analisando a parcela de jovens da PNAD'''\n",
    "\n",
    "print('''Número total de jovens (16 a 23 anos):\n",
    "''', j14.shape[0])\n",
    "print('''\n",
    "''')\n",
    "colors = ['lightcoral','lightblue']\n",
    "explode=(0.1,0.1)\n",
    "fr_jgen.plot(kind='pie', colors=colors, figsize=(8,8), autopct='%1.1f%%',shadow=True, explode=explode)\n",
    "print('Frequêcia relativa do gênero dos jovens:')\n",
    "print('''\n",
    "      Masc.: {0} %\n",
    "      Fem.: {1} %\n",
    "      '''.format(fr_jgen[0], fr_jgen[1]))\n",
    "plt.title('Jovens vs. Gênero')\n",
    "plt.ylabel('.')\n",
    "plt.show()\n",
    "\n",
    "print('Idade dos jovens (describe):')\n",
    "\n",
    "oi = jidade.describe()\n",
    "print('''\n",
    "''', oi,'''\n",
    "''')\n",
    "\n",
    "\n",
    "f_jid = arange(16,24,1)\n",
    "jidade_var = pd.cut(jidade, f_jid)\n",
    "\n",
    "jidade.plot(kind='box', figsize=(8,6))\n",
    "plt.title('Jovens vs. idade')\n",
    "plt.ylabel('Idade')\n",
    "plt.show()\n",
    "\n",
    "jidade.value_counts()\n",
    "jidade.plot.hist(bins=f_jid, color='lightgreen', figsize=(10,6))\n",
    "plt.title('Histograma de jovens por idade')\n",
    "plt.ylabel('Número de pessoas')\n",
    "plt.xlabel('Idade')\n",
    "plt.show()"
   ]
  },
  {
   "cell_type": "markdown",
   "metadata": {},
   "source": [
    "### Pudemos ver que, quanto ao gênero, ambos os grupos estão equilibrados, enquanto ao comparar os gráficos de idade têm-se que a idade dos aposentados se concentra entre 50 e 80 anos, e a idade dos jovens está bem equilibrada com exceção dos individuos entre 22 e 23 anos, cuja parcela é maior que as outras.\n",
    "### Para esta primeira parte, é uma conclusão previsível, considerando a expectativa de vida do país e a idade média de aposentadoria (60 anos)."
   ]
  },
  {
   "cell_type": "markdown",
   "metadata": {},
   "source": [
    "### Agora passaremos a analisar dados que se relacionam com as respectivas participações na sociedade. Para isso, analisaremos a frequência relativa para ambos de:\n",
    "### - Trabalho;\n",
    "### - Situação na economia.\n",
    "### Cruzaremos então estes dados com outras variáveis criando tabelas para uma análise mais completa."
   ]
  },
  {
   "cell_type": "code",
   "execution_count": null,
   "metadata": {
    "collapsed": false
   },
   "outputs": [],
   "source": [
    "'''Aposentados e trabalho'''\n",
    "\n",
    "c = ['salmon','dodgerblue']\n",
    "explode = (0,0.1)\n",
    "fr_atrab.plot(kind='pie', colors=c, figsize=(8,8), explode=explode, autopct='%1.1f%%',shadow=True)\n",
    "print('Frequêcia relativa de aposentados trabalhando:')\n",
    "print('''\n",
    "      Não Trabalhou: {0} %\n",
    "      Trabalhou: {1} %\n",
    "      '''.format(fr_atrab[1], fr_atrab[0]))\n",
    "plt.title('Aposentados vs. Trabalho')\n",
    "plt.ylabel('.')\n",
    "plt.show()"
   ]
  },
  {
   "cell_type": "code",
   "execution_count": null,
   "metadata": {
    "collapsed": false
   },
   "outputs": [],
   "source": [
    "'''Aposentados e economia'''\n",
    "\n",
    "c=['powderblue','steelblue']\n",
    "explode = (0,0.1)\n",
    "fr_aecativ.plot(kind='pie',colors=c, figsize=(8,8), explode=explode, autopct='%1.1f%%',shadow=True)\n",
    "print('Frequêcia relativa de aposentados economicamente ativos:')\n",
    "print('''\n",
    "      Econom. ativos: {0} %\n",
    "      Não econom. ativos: {1} %\n",
    "      '''.format(fr_aecativ[1], fr_aecativ[0]))\n",
    "plt.title('Aposentados vs. Economia')\n",
    "plt.ylabel('.')\n",
    "plt.show()"
   ]
  },
  {
   "cell_type": "code",
   "execution_count": null,
   "metadata": {
    "collapsed": false
   },
   "outputs": [],
   "source": [
    "'''Situação economica vs. Idade dos aposentados'''\n",
    "\n",
    "print('Situação econômica por faixa de idade:')\n",
    "oi1 = pd.crosstab(aecativ,aidade_var, rownames=['Situação na economia'], colnames=['Faixa de Idade'], margins=True)\n",
    "oi1"
   ]
  },
  {
   "cell_type": "code",
   "execution_count": null,
   "metadata": {
    "collapsed": false,
    "scrolled": false
   },
   "outputs": [],
   "source": [
    "oi1.plot(kind='bar',figsize=(10,8), stacked=True, colormap = 'PuBuGn')\n",
    "plt.ylabel('Número de aposentados por faixa de idade')\n",
    "plt.title('Aposentados: Situação econômica vs. Faixa de idade ')\n",
    "plt.show()"
   ]
  },
  {
   "cell_type": "code",
   "execution_count": null,
   "metadata": {
    "collapsed": false
   },
   "outputs": [],
   "source": [
    "'''Aposentados: trabalho vs. economia'''\n",
    "\n",
    "print ('Número de aposentados por trabalho na semana/estado econômico:')\n",
    "c12 = pd.crosstab(atrab, aecativ, margins=True,rownames=['Trabalhou'], colnames=['Situação na economia'])\n",
    "c12"
   ]
  },
  {
   "cell_type": "code",
   "execution_count": null,
   "metadata": {
    "collapsed": false
   },
   "outputs": [],
   "source": [
    "c = ['paleturquoise', 'peachpuff','palegreen']\n",
    "c12.plot(kind='bar',color=c, figsize=(15,8))\n",
    "plt.ylabel('Número de pessoas')\n",
    "plt.title('Histograma: Economia vs. Trabalho (Aposentados)')\n",
    "plt.xlabel(' ')\n",
    "plt.show()"
   ]
  },
  {
   "cell_type": "markdown",
   "metadata": {},
   "source": [
    "### <font color ='green'>Considerando que não seria justo comparar a frequencia relativa dos aposentados que trabalham com o número geral destes, já que muitos aposentados realmente não trabalham mais, analisaremos a frequência de aposentados que são ECONOMICAMENTE ATIVOS em relação ao trabalho."
   ]
  },
  {
   "cell_type": "code",
   "execution_count": null,
   "metadata": {
    "collapsed": false
   },
   "outputs": [],
   "source": [
    "aectrab = atrab[(aecativ=='Economicamente ativo')]\n",
    "fr_aectrab = (aectrab.value_counts()/an*100).round(decimals=1)\n",
    "\n",
    "c=['darkorange','yellowgreen']\n",
    "explode = (0,0.1)\n",
    "fr_aectrab.plot(kind='pie',colors=c, figsize=(8,8), explode=explode, autopct='%1.1f%%',shadow=True)\n",
    "plt.ylabel('.')\n",
    "plt.title('Frequência relativa dos aposentados economicamente ativos em relação ao trabalho', fontsize='large')\n",
    "plt.show()"
   ]
  },
  {
   "cell_type": "code",
   "execution_count": null,
   "metadata": {
    "collapsed": false
   },
   "outputs": [],
   "source": [
    "'''Jovens e trabalho'''\n",
    "\n",
    "c = ['salmon','dodgerblue']\n",
    "explode = (0,0.1)\n",
    "fr_jtrab.plot(kind='pie', colors=c, figsize=(8,8), explode=explode, autopct='%1.1f%%',shadow=True)\n",
    "print('Frequêcia relativa de jovens trabalhando:')\n",
    "print('''\n",
    "      Não Trabalhou: {0} %\n",
    "      Trabalhou: {1} %\n",
    "      '''.format(fr_jtrab[1], fr_jtrab[0]))\n",
    "plt.title('Jovens vs. Trabalho')\n",
    "plt.ylabel('.')\n",
    "plt.show()"
   ]
  },
  {
   "cell_type": "code",
   "execution_count": null,
   "metadata": {
    "collapsed": false
   },
   "outputs": [],
   "source": [
    "'''Jovens e economia'''\n",
    "\n",
    "c=['steelblue','powderblue']\n",
    "explode = (0,0.1)\n",
    "fr_jecativ.plot(kind='pie',colors=c, figsize=(8,8), explode=explode, autopct='%1.1f%%',shadow=True)\n",
    "print('Frequêcia relativa de jovens economicamente ativos:')\n",
    "print('''\n",
    "      Econom. ativos: {0} %\n",
    "      Não econom. ativos: {1} %\n",
    "      '''.format(fr_jecativ[1], fr_jecativ[0]))\n",
    "plt.title('Jovens vs. Economia')\n",
    "plt.ylabel('.')\n",
    "plt.show()"
   ]
  },
  {
   "cell_type": "code",
   "execution_count": null,
   "metadata": {
    "collapsed": false
   },
   "outputs": [],
   "source": [
    "'''Situação economica vs. Idade dos jovens'''\n",
    "\n",
    "print('Situação econômica por idade:')\n",
    "oi3 = pd.crosstab(jecativ,jidade, rownames=['Situação na economia'], colnames=['Idade'], margins=True)\n",
    "oi3"
   ]
  },
  {
   "cell_type": "code",
   "execution_count": null,
   "metadata": {
    "collapsed": false
   },
   "outputs": [],
   "source": [
    "oi3.plot(kind='bar',figsize=(10,8), stacked=True, colormap = 'PuBuGn')\n",
    "plt.ylabel('Número de jovens por idade')\n",
    "plt.title('Jovens: Situação econômica vs. faixa de dade ')\n",
    "plt.show()"
   ]
  },
  {
   "cell_type": "code",
   "execution_count": null,
   "metadata": {
    "collapsed": false
   },
   "outputs": [],
   "source": [
    "'''Jovens: trabalho vs. economia'''\n",
    "\n",
    "print ('Número de jovens por trabalho na semana/estado econômico:')\n",
    "c23 = pd.crosstab(jtrab, jecativ, margins=True,rownames=['Trabalhou'],colnames=['Situação na economia'])\n",
    "c23"
   ]
  },
  {
   "cell_type": "code",
   "execution_count": null,
   "metadata": {
    "collapsed": false
   },
   "outputs": [],
   "source": [
    "c = ['paleturquoise', 'peachpuff','palegreen']\n",
    "c2.plot(kind='bar',color=c, figsize=(15,8))\n",
    "plt.ylabel('Número de pessoas')\n",
    "plt.xlabel(' ')\n",
    "plt.title('Histograma: Economia vs. Trabalho (Jovens)')\n",
    "plt.show()"
   ]
  },
  {
   "cell_type": "markdown",
   "metadata": {},
   "source": [
    "### <font color = 'green'>Do mesmo jeito que usamos a frequencia apenas dos economicamente ativos para os aposentados, faremos isso também para os jovens."
   ]
  },
  {
   "cell_type": "code",
   "execution_count": null,
   "metadata": {
    "collapsed": false
   },
   "outputs": [],
   "source": [
    "jectrab = jtrab[(jecativ=='Economicamente ativo')]\n",
    "fr_jectrab = (jectrab.value_counts()/jn*100).round(decimals=1)\n",
    "\n",
    "c=['darkorange','yellowgreen']\n",
    "explode = (0,0.1)\n",
    "fr_jectrab.plot(kind='pie',colors=c, figsize=(8,8), explode=explode, autopct='%1.1f%%',shadow=True)\n",
    "plt.ylabel('.')\n",
    "plt.title('Frequência relativa dos jovens economicamente ativos em relação ao trabalho', fontsize='large')\n",
    "plt.show()"
   ]
  },
  {
   "cell_type": "markdown",
   "metadata": {},
   "source": [
    "## A) Primeira Comparação\n",
    "\n",
    "### Temos que, segundo os dois gráficos abaixo, a porcentagem de jovens e aposentados, economicamente ativos, que trabalharam na semana de referência da pesquisa é muito próxima. Os jovens ficam a frente com 0,2% de seus econom. ativos trabalhando.\n",
    "\n",
    "<img src=\"aectrab.jpg\"/, width=420, height=350 align='left'>\n",
    "<img src=\"jectrab.jpg\"/, width=420, height=350 align='right'>\n",
    "\n",
    "## |\n",
    "## |\n",
    "## |\n",
    "## |\n",
    "## |\n",
    "## |\n",
    "\n",
    "\n",
    "### Agora, observando o histograma de situação na economia por idade, temos que para os idosos, a distruição de idade é similar tanto para economicamente ativos quanto para não economicamente ativos . Já para os jovens, temos que a maior parte dos economicamente ativos está concentrada nas idades mais altas.\n",
    "\n",
    "<img src=\"a14.jpg\"/, width=420, height=350 align='left'>\n",
    "<img src=\"j14.jpg\"/, width=420, height=350 align='right'>"
   ]
  },
  {
   "cell_type": "markdown",
   "metadata": {},
   "source": [
    "### Continuando nossa análise, iremos agora partir para variáveis mais complexas, que analisarão o salário recebido por estes trabalhadores deifinidos na conclusão acima, as horas de trabalho semanais, e também o nível de ensino dos individuos analisados."
   ]
  },
  {
   "cell_type": "code",
   "execution_count": null,
   "metadata": {
    "collapsed": false
   },
   "outputs": [],
   "source": [
    "'''Separando a renda dos aposentados economicamente ativos que trabalham'''\n",
    "\n",
    "teste = a14[(~a14.V4718.isnull())]\n",
    "arenda = teste.V4718[(teste.V4718>0)&(teste.V4718<=100000)]\n",
    "\n",
    "far = arange(0,50001,10000)\n",
    "\n",
    "arendaf = pd.cut(arenda, far)\n",
    "x = arendaf.value_counts()\n",
    "y = arenda.describe()"
   ]
  },
  {
   "cell_type": "code",
   "execution_count": null,
   "metadata": {
    "collapsed": false
   },
   "outputs": [],
   "source": [
    "arenda.plot(kind='box', figsize=(10,8))\n",
    "plt.title('Boxplot: Salário do trabalho principal de aposentados:')\n",
    "plt.show()\n",
    "\n",
    "print('''\n",
    "''')\n",
    "\n",
    "\n",
    "print('''Número de aposentados por faixa de renda:\n",
    "''',\n",
    "      x, '''\n",
    "''', '''\n",
    "''', '''Renda dos aposentados (describe):\n",
    "'''\n",
    "      \n",
    "      , \n",
    "      y)\n",
    "arenda.plot.hist(bins=far, color='khaki', figsize=(8,6))\n",
    "plt.title('Aposentados vs. Faixa de Renda (trabalho principal)')\n",
    "plt.show()\n",
    "print('*Um valor entre 90.000 e 100.000 reais foi excluido por ser considerado irrelevante.')"
   ]
  },
  {
   "cell_type": "code",
   "execution_count": null,
   "metadata": {
    "collapsed": false
   },
   "outputs": [],
   "source": [
    "'''Separando a renda dos jovens economicamente ativos que trabalham'''\n",
    "\n",
    "teste = j14[(~j14.V4718.isnull())]\n",
    "jrenda = teste.V4718[teste.V4718<=25000]\n",
    "\n",
    "fjr = arange(0,16001,2000)\n",
    "\n",
    "jrendaf = pd.cut(jrenda, fjr)\n",
    "\n",
    "x = jrendaf.value_counts()\n",
    "y = jrenda.describe()"
   ]
  },
  {
   "cell_type": "code",
   "execution_count": null,
   "metadata": {
    "collapsed": false
   },
   "outputs": [],
   "source": [
    "jrenda.plot(kind='box', figsize=(10,8))\n",
    "plt.title('Boxplot: Salário do trabalho principal de jovens:')\n",
    "plt.show()\n",
    "\n",
    "print('''\n",
    "''')\n",
    "\n",
    "\n",
    "print('''Número de jovens por faixa de renda:\n",
    "''',\n",
    "      x, '''\n",
    "''', '''\n",
    "''', '''Renda dos aposentados (describe):\n",
    "'''\n",
    "      \n",
    "      , \n",
    "      y)\n",
    "jrenda.plot.hist(bins=fjr, color='khaki', figsize=(8,6))\n",
    "plt.title('Jovens vs. Faixa de Renda (trabalho principal)')\n",
    "plt.show()\n",
    "print('*Um valor entre 20.000 e 22.000 reais foi excluido por ser considerado irrelevante.')"
   ]
  },
  {
   "cell_type": "markdown",
   "metadata": {},
   "source": [
    "## B) Segunda Comparação\n",
    "### Vemos nos gráficos, e principalemente no \"describe\" de cada uma das parcelas, que, por mais que os jovens tenham uma parcela maior de pessoas trabalhando, os aposentados na média ganham salários maiores, já que sua mediana é maior que a mediana dos jovens.\n",
    "\n",
    "### Aposentados: mediana = 1000;\n",
    "### Jovens: mediana = 750.\n",
    "\n",
    "### Isso deve acontecer devido à maior experiência de aposentados no trabalho."
   ]
  },
  {
   "cell_type": "markdown",
   "metadata": {},
   "source": [
    "### Agora, separando os aposentados e jovens por faixa de horas semanais trabalhadas:"
   ]
  },
  {
   "cell_type": "code",
   "execution_count": null,
   "metadata": {
    "collapsed": false
   },
   "outputs": [],
   "source": [
    "'''Separando as horas trabalhadas por semana dos aposentados'''\n",
    "\n",
    "teste = a14[(~a14.V9058.isnull())]\n",
    "ahoras = teste.V9058[teste.V9058<=98]\n",
    "\n",
    "fah = arange(0,99,10)\n",
    "\n",
    "ahorasf = pd.cut(ahoras, fah)"
   ]
  },
  {
   "cell_type": "code",
   "execution_count": null,
   "metadata": {
    "collapsed": false
   },
   "outputs": [],
   "source": [
    "ahoras.plot.hist(bins=fah, color='lightsalmon', figsize=(6,3))\n",
    "plt.ylabel('Número de aposentados')\n",
    "plt.xlabel('Faixa de horas semanais de trabalho')\n",
    "plt.title('''Aposentados vs. Horas semanais de trabalho \n",
    "(em faixas de 10 horas cada)\n",
    "''')\n",
    "plt.show()"
   ]
  },
  {
   "cell_type": "code",
   "execution_count": null,
   "metadata": {
    "collapsed": true
   },
   "outputs": [],
   "source": [
    "'''Separando as horas trabalhadas por semana dos jovens'''\n",
    "\n",
    "teste = j14[(~j14.V9058.isnull())]\n",
    "jhoras = teste.V9058[teste.V9058<=98]\n",
    "\n",
    "fjh = arange(0,99,10)\n",
    "\n",
    "jhorasf = pd.cut(jhoras, fjh)"
   ]
  },
  {
   "cell_type": "code",
   "execution_count": null,
   "metadata": {
    "collapsed": false
   },
   "outputs": [],
   "source": [
    "jhoras.plot.hist(bins=fjh, color='lightsalmon', figsize=(6,10))\n",
    "plt.ylabel('Número de jovens')\n",
    "plt.xlabel('Faixa de horas semanais de trabalho')\n",
    "plt.title('''Jovens vs. Horas semanais de trabalho \n",
    "(em faixas de 10 horas cada)\n",
    "''')\n",
    "plt.show()"
   ]
  },
  {
   "cell_type": "markdown",
   "metadata": {},
   "source": [
    "## C) Terceira comparação\n",
    "\n",
    "### Temos que em ambas as parcelas analisadas o maior número de individuos se concentra na faixa de 40 a 50 horas semanais, que é a carga horária mais comum para a maioria dos empregos atualmente.\n",
    "\n",
    "<img src=\"jhoras.jpg\"/, width=420, height=350 align='right'>\n",
    "<img src=\"ahoras.jpg\"/, width=420, height=350 align='left'>\n"
   ]
  },
  {
   "cell_type": "markdown",
   "metadata": {},
   "source": [
    "### Analisaremos agora o cruzamento de dados entre idade e horas semanais."
   ]
  },
  {
   "cell_type": "code",
   "execution_count": null,
   "metadata": {
    "collapsed": false
   },
   "outputs": [],
   "source": [
    "'''Horas semanais por idade de aposentados'''\n",
    "\n",
    "print('Aposentados: Idade vs. Horas semanais:')\n",
    "oi4 = pd.crosstab(ahorasf,aidade_var,margins=True,colnames=['Idade'],rownames=['Horas semanais'])\n",
    "oi4"
   ]
  },
  {
   "cell_type": "code",
   "execution_count": null,
   "metadata": {
    "collapsed": false
   },
   "outputs": [],
   "source": [
    "oi4.plot(kind='bar', figsize=(18,8), stacked=True, colormap='jet')\n",
    "axes=plt.gca()\n",
    "axes.set_ylim([0,2500])\n",
    "plt.title('Aposentados: nivel de ensino vs. horas semanais de trabalho*', fontsize=('x-large'))\n",
    "plt.ylabel('Número de aposentados')\n",
    "plt.show()\n",
    "print('''*Os valores totais (\"all\") no gráfico foram cortados para melhor visualização da distribuição \n",
    "      de aposentados por horas semanais.''')"
   ]
  },
  {
   "cell_type": "code",
   "execution_count": null,
   "metadata": {
    "collapsed": false
   },
   "outputs": [],
   "source": [
    "'''Horas semanais por idade de jovens'''\n",
    "\n",
    "print('Jovens: Idade vs. Horas semanais:')\n",
    "oi5 = pd.crosstab(jhorasf,jidade,margins=True,colnames=['Idade'],rownames=['Horas semanais'])\n",
    "oi5"
   ]
  },
  {
   "cell_type": "code",
   "execution_count": null,
   "metadata": {
    "collapsed": false
   },
   "outputs": [],
   "source": [
    "oi5.plot(kind='bar', figsize=(18,22), stacked =True,colormap='jet')\n",
    "axes=plt.gca()\n",
    "axes.set_ylim([0,9000])\n",
    "plt.title('Jovens: Idade vs. Horas semanais de trabalho*', fontsize=('x-large'))\n",
    "plt.ylabel('Número de jovens')\n",
    "plt.show()\n",
    "print('''*Os valores totais (\"all\") no gráfico foram cortados para melhor visualização da distribuição \n",
    "      de jovens por horas semanais.''')"
   ]
  },
  {
   "cell_type": "markdown",
   "metadata": {},
   "source": [
    "### Por enquanto, temos que os aposentados entre 61 e 71 anos são a maior parcela em todas as faixas de horas semanais trabalhadas. Também, nas horas muito elevadas, encontra-se aposentados mais jovens.\n",
    "### Para o grupo dos jovens, temos que as horas média estão bem distribuídas, enquando nas horas mais elevadas encontram-se idades mais altas, o que podemos concluir que é pelo fato de idades mais baixas não poderem trabalhar muito devido ao estudo."
   ]
  },
  {
   "cell_type": "markdown",
   "metadata": {},
   "source": [
    "### Para a próxima etapa, analisaremos os jovens e aposentados em relação aos seus respectivos níveis de ensino:"
   ]
  },
  {
   "cell_type": "code",
   "execution_count": null,
   "metadata": {
    "collapsed": false
   },
   "outputs": [],
   "source": [
    "'''Analisando nivel de ensino aposentados'''\n",
    "\n",
    "c = ['whitesmoke','aqua','purple','coral','gray']\n",
    "explode=(0.1,0.1,0.1,0.2,0.1,0,0,0,0)\n",
    "fr_anivens.plot(kind='pie', colors=c, figsize=(8,8), shadow=True, autopct='%1.1f%%',explode=explode)\n",
    "plt.ylabel(' ')\n",
    "plt.title('Aposentados vs. Nivel de Ensino*')\n",
    "plt.show()\n",
    "print('*A parte \"faltando\" do gráfico são as variaveis \"NaN\" que foram retiradas, e o 0% no gráfico')"
   ]
  },
  {
   "cell_type": "code",
   "execution_count": null,
   "metadata": {
    "collapsed": false
   },
   "outputs": [],
   "source": [
    "'''Analisando nivel de ensino jovens'''\n",
    "\n",
    "c = ['coral','aqua','orange','yellowgreen','black']\n",
    "explode=(0,0.1,0.1,0.7,0.9,1.1,1.3,1.5,1.8)\n",
    "fr_jnivens.plot(kind='pie', colors=c, figsize=(8,8), shadow=True, autopct='%1.1f%%', explode=explode)\n",
    "plt.ylabel(' ')\n",
    "plt.title('Jovens vs. Nivel de Ensino*')\n",
    "plt.show()\n",
    "print('*A parte \"faltando\" do gráfico são as variaveis \"NaN\" que foram retiradas')"
   ]
  },
  {
   "cell_type": "markdown",
   "metadata": {},
   "source": [
    "### Nestes dois gráficos vemos que, para os aposentados, o nivel de ensino é muito baixo. Por mais que 20% seja graduado no Ensino Superior, 20% tem apenas curso de alfabetização, o que é consequência do baixo desenvolvimento do país na época em que estes eram mais novos.\n",
    "### Para os jovens, temos um nivel de ensino bem distribuido e com maioria graudado no Ensino Médio ou Superior, reflexo da situação atual do país, durante a qual a maioria dos jovens frequenta escolas e universidades."
   ]
  },
  {
   "cell_type": "markdown",
   "metadata": {},
   "source": [
    "### Agora, para analisar melhor a faixa de renda, compararemos com estes niveis de ensino."
   ]
  },
  {
   "cell_type": "code",
   "execution_count": null,
   "metadata": {
    "collapsed": false
   },
   "outputs": [],
   "source": [
    "'''Comparando nivel de ensino com renda'''\n",
    "\n",
    "print('Aposentados: nivel de ensino vs. renda:')\n",
    "oi6 = pd.crosstab(arendaf, anivens,colnames=['Nivel de ensino'], rownames=['Renda'])\n",
    "oi6"
   ]
  },
  {
   "cell_type": "code",
   "execution_count": null,
   "metadata": {
    "collapsed": false
   },
   "outputs": [],
   "source": [
    "oi6.plot(kind='bar', figsize=(15,12),stacked=True, colormap='magma')\n",
    "axes=plt.gca()\n",
    "axes.set_ylim(0,70)\n",
    "plt.ylabel('Número de aposentados')\n",
    "plt.title('Aposentados: nivel de ensino vs. renda')\n",
    "plt.show()"
   ]
  },
  {
   "cell_type": "code",
   "execution_count": null,
   "metadata": {
    "collapsed": false
   },
   "outputs": [],
   "source": [
    "'''Comparando nivel de ensino com renda'''\n",
    "\n",
    "print('Jovems: nivel de ensino vs. renda:')\n",
    "\n",
    "oi7 = pd.crosstab(jrendaf, jnivens,colnames=['Nivel de ensino'], rownames=['Renda'])\n",
    "oi7"
   ]
  },
  {
   "cell_type": "code",
   "execution_count": null,
   "metadata": {
    "collapsed": false
   },
   "outputs": [],
   "source": [
    "oi7.plot(kind='bar', figsize=(15,16),stacked=True,colormap='magma')\n",
    "axes=plt.gca()\n",
    "axes.set_ylim(0,7000)\n",
    "plt.ylabel('Número de jovens')\n",
    "plt.title('Jovens: nivel de ensino vs. renda')\n",
    "plt.show()"
   ]
  },
  {
   "cell_type": "markdown",
   "metadata": {},
   "source": [
    "### Para ambos os casos, temos que os niveis de ensino mais altos tem faixas de renda maiores, enquanto na menor faixa de renda os niveis aparecem todos, devido à diversos tipos de trabalhos os quais não precisam de instrução e ao desequilibro nos salários do pais."
   ]
  },
  {
   "cell_type": "markdown",
   "metadata": {},
   "source": [
    "### Para informações adcionais, cruzaremos os dados de renda por horas de trabalho."
   ]
  },
  {
   "cell_type": "code",
   "execution_count": null,
   "metadata": {
    "collapsed": false
   },
   "outputs": [],
   "source": [
    "'''Calculando renda por horas de trabalho para aposentados'''\n",
    "\n",
    "oi8 = pd.crosstab(ahorasf, arendaf)\n",
    "oi8"
   ]
  },
  {
   "cell_type": "code",
   "execution_count": null,
   "metadata": {
    "collapsed": false
   },
   "outputs": [],
   "source": [
    "print('V4718 = Faixa de renda do trabalho principal')\n",
    "oi8.plot(marker='o', figsize=(15,8))\n",
    "plt.ylabel('Número de pessoas')\n",
    "plt.xlabel('Faixa de horas trabalhadas')\n",
    "plt.title('Aposentados: aixa de renda vs. faixa de horas semanais')\n",
    "plt.show()"
   ]
  },
  {
   "cell_type": "code",
   "execution_count": null,
   "metadata": {
    "collapsed": false
   },
   "outputs": [],
   "source": [
    "'''Calculando renda por horas de trabalho para jovens'''\n",
    "\n",
    "oi0 = pd.crosstab(jhorasf, jrendaf)\n",
    "oi0"
   ]
  },
  {
   "cell_type": "code",
   "execution_count": null,
   "metadata": {
    "collapsed": false
   },
   "outputs": [],
   "source": [
    "print('V4718 = Faixa de renda do trabalho principal')\n",
    "oi0.plot(marker='o', figsize=(15,8))\n",
    "plt.ylabel('Número de pessoas')\n",
    "plt.xlabel('Faixa de horas trabalhadas')\n",
    "plt.title('Jovens: aixa de renda vs. faixa de horas semanais')\n",
    "plt.show()"
   ]
  },
  {
   "cell_type": "markdown",
   "metadata": {},
   "source": [
    "### Em ambos, temos que as horas de trabalho não são proporcionais à renda."
   ]
  },
  {
   "cell_type": "markdown",
   "metadata": {},
   "source": [
    "## 3-Análise e Resultado 2011"
   ]
  },
  {
   "cell_type": "code",
   "execution_count": null,
   "metadata": {
    "collapsed": true
   },
   "outputs": [],
   "source": [
    "a11 = pd.read_csv('Aposentados2011.csv',sep=',')\n",
    "j11 = pd.read_csv('Jovens2011.csv')\n",
    "\n",
    "an11 = a11.shape[0]\n",
    "jn11 = j11.shape[0]"
   ]
  },
  {
   "cell_type": "code",
   "execution_count": null,
   "metadata": {
    "collapsed": false
   },
   "outputs": [],
   "source": [
    "aecativ11 = a11.V4704\n",
    "aecativ11 = aecativ11.astype('category')\n",
    "aecativ11.cat.categories=('Economicamente ativo','Não economicamente ativo')\n",
    "\n",
    "atrab11 = a11.V9001\n",
    "atrab11 = atrab11.astype('category')\n",
    "atrab11.cat.categories=('Trabalho na semana','Não trabalhou na semana')\n",
    "\n",
    "jecativ11 = a11.V4704\n",
    "jecativ11 = jecativ11.astype('category')\n",
    "jecativ11.cat.categories=('Economicamente ativo','Não economicamente ativo')\n",
    "\n",
    "jtrab11 = a11.V9001\n",
    "jtrab11 = jtrab11.astype('category')\n",
    "jtrab11.cat.categories=('Trabalho na semana','Não trabalhou na semana')"
   ]
  },
  {
   "cell_type": "code",
   "execution_count": null,
   "metadata": {
    "collapsed": true
   },
   "outputs": [],
   "source": [
    "fr_aecativ11 = (aecativ11.value_counts()/an11*100).round(decimals=1)\n",
    "fr_atrab11 = (atrab11.value_counts()/an11*100).round(decimals=1)\n",
    "\n",
    "fr_jecativ11 = (jecativ11.value_counts()/jn11*100).round(decimals=1)\n",
    "fr_jtrab11 = (jtrab11.value_counts()/jn11*100).round(decimals=1)"
   ]
  },
  {
   "cell_type": "code",
   "execution_count": null,
   "metadata": {
    "collapsed": false
   },
   "outputs": [],
   "source": [
    "aectrab11 = atrab11[(aecativ11=='Economicamente ativo')]\n",
    "fr_aectrab11 = (aectrab11.value_counts()/an11*100).round(decimals=1)\n",
    "\n",
    "jectrab11 = jtrab11[(jecativ11=='Economicamente ativo')]\n",
    "fr_jectrab11 = (jectrab11.value_counts()/jn11*100).round(decimals=1)"
   ]
  },
  {
   "cell_type": "markdown",
   "metadata": {},
   "source": [
    "### Com o intuito de comparar a participação de aposentados e jovens na sociedade em 2011 e 2014, analisaremos aqui a situação de ambas as parcelas na economia e em relação ao trabalho."
   ]
  },
  {
   "cell_type": "code",
   "execution_count": null,
   "metadata": {
    "collapsed": false
   },
   "outputs": [],
   "source": [
    "c = ['salmon','dodgerblue']\n",
    "explode = (0,0.1)\n",
    "fr_atrab11.plot(kind='pie', colors=c, figsize=(8,8), explode=explode, autopct='%1.1f%%',shadow=True)\n",
    "print('Frequêcia relativa de aposentados trabalhando:')\n",
    "print('''\n",
    "      Não Trabalhou: {0} %\n",
    "      Trabalhou: {1} %\n",
    "      '''.format(fr_atrab11[1], fr_atrab11[0]))\n",
    "plt.title('Aposentados 2011 vs. Trabalho')\n",
    "plt.ylabel('.')\n",
    "plt.show()"
   ]
  },
  {
   "cell_type": "code",
   "execution_count": null,
   "metadata": {
    "collapsed": false
   },
   "outputs": [],
   "source": [
    "c=['powderblue','steelblue']\n",
    "explode = (0,0.1)\n",
    "fr_aecativ11.plot(kind='pie',colors=c, figsize=(8,8), explode=explode, autopct='%1.1f%%',shadow=True)\n",
    "print('Frequêcia relativa de aposentados economicamente ativos:')\n",
    "print('''\n",
    "      Econom. ativos: {0} %\n",
    "      Não econom. ativos: {1} %\n",
    "      '''.format(fr_aecativ11[1], fr_aecativ11[0]))\n",
    "plt.title('Aposentados 2011 vs. Economia')\n",
    "plt.ylabel('.')\n",
    "plt.show()"
   ]
  },
  {
   "cell_type": "code",
   "execution_count": null,
   "metadata": {
    "collapsed": false
   },
   "outputs": [],
   "source": [
    "c = ['salmon','dodgerblue']\n",
    "explode = (0,0.1)\n",
    "fr_jtrab11.plot(kind='pie', colors=c, figsize=(8,8), explode=explode, autopct='%1.1f%%',shadow=True)\n",
    "print('Frequêcia relativa de jovens trabalhando:')\n",
    "print('''\n",
    "      Não Trabalhou: {0} %\n",
    "      Trabalhou: {1} %\n",
    "      '''.format(fr_jtrab11[1], fr_jtrab11[0]))\n",
    "plt.title('Jovens 2011 vs. Trabalho')\n",
    "plt.ylabel('.')\n",
    "plt.show()"
   ]
  },
  {
   "cell_type": "code",
   "execution_count": null,
   "metadata": {
    "collapsed": false
   },
   "outputs": [],
   "source": [
    "c=['powderblue','steelblue']\n",
    "explode = (0,0.1)\n",
    "fr_jecativ11.plot(kind='pie',colors=c, figsize=(8,8), explode=explode, autopct='%1.1f%%',shadow=True)\n",
    "print('Frequêcia relativa de jovens economicamente ativos:')\n",
    "print('''\n",
    "      Econom. ativos: {0} %\n",
    "      Não econom. ativos: {1} %\n",
    "      '''.format(fr_jecativ11[1], fr_jecativ11[0]))\n",
    "plt.title('Jovens 2011 vs. Economia')\n",
    "plt.ylabel('.')\n",
    "plt.show()"
   ]
  },
  {
   "cell_type": "code",
   "execution_count": null,
   "metadata": {
    "collapsed": false
   },
   "outputs": [],
   "source": [
    "c=['darkorange','yellowgreen']\n",
    "explode = (0,0.1)\n",
    "fr_aectrab11.plot(kind='pie',colors=c, figsize=(8,8), explode=explode, autopct='%1.1f%%',shadow=True)\n",
    "plt.ylabel('.')\n",
    "plt.title('Frequência relativa dos aposentados 2011 economicamente ativos em relação ao trabalho', fontsize='large')\n",
    "plt.show()"
   ]
  },
  {
   "cell_type": "code",
   "execution_count": null,
   "metadata": {
    "collapsed": false
   },
   "outputs": [],
   "source": [
    "print ('Número de aposentados 2011 por trabalho na semana/estado econômico:')\n",
    "c19 = pd.crosstab(atrab11, aecativ11, margins=True,rownames=['Trabalhou'], colnames=['Situação na economia'])\n",
    "c19"
   ]
  },
  {
   "cell_type": "code",
   "execution_count": null,
   "metadata": {
    "collapsed": false
   },
   "outputs": [],
   "source": [
    "c = ['paleturquoise', 'peachpuff','palegreen']\n",
    "c19.plot(kind='bar',color=c, figsize=(15,8))\n",
    "plt.ylabel('Número de pessoas')\n",
    "plt.title('Histograma: Economia vs. Trabalho (Aposentados 2011)')\n",
    "plt.xlabel(' ')\n",
    "plt.show()"
   ]
  },
  {
   "cell_type": "code",
   "execution_count": null,
   "metadata": {
    "collapsed": false
   },
   "outputs": [],
   "source": [
    "c=['darkorange','yellowgreen']\n",
    "explode = (0,0.1)\n",
    "fr_aectrab.plot(kind='pie',colors=c, figsize=(8,8), explode=explode, autopct='%1.1f%%',shadow=True)\n",
    "plt.ylabel('.')\n",
    "plt.title('Frequência relativa dos jovens 2011 economicamente ativos em relação ao trabalho', fontsize='large')\n",
    "plt.show()"
   ]
  },
  {
   "cell_type": "code",
   "execution_count": null,
   "metadata": {
    "collapsed": false
   },
   "outputs": [],
   "source": [
    "print ('Número de jovens 2011 por trabalho na semana/estado econômico:')\n",
    "c17 = pd.crosstab(jtrab11, jecativ11, margins=True,rownames=['Trabalhou'], colnames=['Situação na economia'])\n",
    "c17"
   ]
  },
  {
   "cell_type": "code",
   "execution_count": null,
   "metadata": {
    "collapsed": false
   },
   "outputs": [],
   "source": [
    "c = ['paleturquoise', 'peachpuff','palegreen']\n",
    "c17.plot(kind='bar',color=c, figsize=(15,8))\n",
    "plt.ylabel('Número de pessoas')\n",
    "plt.title('Histograma: Economia vs. Trabalho (Jovens 2011)')\n",
    "plt.xlabel(' ')\n",
    "plt.show()"
   ]
  },
  {
   "cell_type": "markdown",
   "metadata": {},
   "source": [
    "## A) Primeira Comparação 2011-2014\n",
    "\n",
    "### Como podemos ver nos últimos dois gráficos de pizza, a porcentagem de aposentados e jovens economicamente ativos que trabalham é, respectivamente:\n",
    "\n",
    "### Aposentados = 15,7%\n",
    "### Jovens = 20,1%\n",
    "\n",
    "### Comparando com os dados em 2014, temos que a porcentagem de aposentados ec. ativos trabalhando aumentou de 15,7% para 20,1%, equando a dos jovens diminuiu de 20,1% para 19,9%.\n",
    "\n",
    "\n",
    "#### Gráficos 2011 (Aposentados/Jovens)\n",
    "<img src=\"a11.jpg\"/, width=420, height=350 align='left'>\n",
    "<img src=\"j11.jpg\"/, width=420, height=350 align='right'>\n",
    "## |\n",
    "## |\n",
    "## |\n",
    "## |\n",
    "## |\n",
    "## |\n",
    "#### Gráficos 2014 (Aposentados/Jovens)\n",
    "\n",
    "\n",
    "<img src=\"aectrab.jpg\"/, width=420, height=350 align='left'>\n",
    "<img src=\"jectrab.jpg\"/, width=420, height=350 align='right'>"
   ]
  },
  {
   "cell_type": "markdown",
   "metadata": {},
   "source": [
    "# 4-Conclusão Final"
   ]
  },
  {
   "cell_type": "markdown",
   "metadata": {},
   "source": [
    "## Como conclusão temos que em 2014, aposentados economicamente ativos trabalharam mais que jovens economicamente ativos, e estes tiveram um crescimento em sua parcela trabalhadora, enquanto os jovens tiveram uma decaida em seus valores.\n",
    "## Concluimos também que jovens tem um nivel de ensino médio bem mais alto, devido às condições do país na época."
   ]
  }
 ],
 "metadata": {
  "kernelspec": {
   "display_name": "Python 3",
   "language": "python",
   "name": "python3"
  }
 },
 "nbformat": 4,
 "nbformat_minor": 0
}
