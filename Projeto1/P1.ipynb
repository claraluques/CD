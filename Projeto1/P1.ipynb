{
 "cells": [
  {
   "cell_type": "markdown",
   "metadata": {},
   "source": [
    "## Maria Clara Lorenzetti Luques"
   ]
  },
  {
   "cell_type": "markdown",
   "metadata": {},
   "source": [
    "### Este arquivo foi usado no processo de desenvolvimento do Projeto 1, para não sobrecarregar o arquivo principal com a leitura dos arquivos integrais das PNADs.\n",
    "### Nele, foram lidas as PNADs de 2011 e 2014, e de ambas separados apenas os dados pertencentes à jovens (16 a 23 anos) e à aposentados.\n",
    "### Os arquivos talvez tenham sido renomeados. Os arquivos usados encontram-se no arquivo csvs.zip, encontrado na pasta CD/Projeto1 no GitHub (usuário = claraluques)."
   ]
  },
  {
   "cell_type": "code",
   "execution_count": null,
   "metadata": {
    "collapsed": true
   },
   "outputs": [],
   "source": [
    "%matplotlib inline\n",
    "import pandas as pd\n",
    "import matplotlib.pyplot as plt\n",
    "import os\n",
    "from numpy import arange"
   ]
  },
  {
   "cell_type": "code",
   "execution_count": null,
   "metadata": {
    "collapsed": false
   },
   "outputs": [],
   "source": [
    "print('Esperamos trabalhar no diretório')\n",
    "print(os.getcwd())"
   ]
  },
  {
   "cell_type": "code",
   "execution_count": null,
   "metadata": {
    "collapsed": true
   },
   "outputs": [],
   "source": [
    "dados14 = pd.read_csv('PES2014.csv', encoding='windows-1252', sep=',')\n",
    "dados11 = pd.read_csv('PES2011.csv', encoding='windows-1252', sep=',')"
   ]
  },
  {
   "cell_type": "code",
   "execution_count": null,
   "metadata": {
    "collapsed": true
   },
   "outputs": [],
   "source": [
    "apo14 = dados14[dados14.V9122==2]\n",
    "apo14.to_csv('Aposentados2014.csv', sep=',')\n",
    "jov14 = dados14[(dados14.V8005>=16)&(dados14.V8005<=23)]\n",
    "jov14.to_csv('Jovens2014.csv',sep=',')\n",
    "\n",
    "apo11 = dados11[dados11.V9122==2]\n",
    "apo11.to_csv('Aposentados2011.csv', sep=',')\n",
    "jov11 = dados11[(dados11.V8005>=16)&(dados11.V8005<=23)]\n",
    "jov11.to_csv('Jovens2011.csv',sep=',')"
   ]
  }
 ],
 "metadata": {
  "kernelspec": {
   "display_name": "Python 3",
   "language": "python",
   "name": "python3"
  },
  "language_info": {
   "codemirror_mode": {
    "name": "ipython",
    "version": 3
   },
   "file_extension": ".py",
   "mimetype": "text/x-python",
   "name": "python",
   "nbconvert_exporter": "python",
   "pygments_lexer": "ipython3",
   "version": "3.5.2"
  }
 },
 "nbformat": 4,
 "nbformat_minor": 0
}
